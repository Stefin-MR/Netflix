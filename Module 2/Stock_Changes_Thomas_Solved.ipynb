{
 "cells": [
  {
   "cell_type": "code",
   "execution_count": 49,
   "metadata": {},
   "outputs": [],
   "source": [
    "import os\n",
    "import csv"
   ]
  },
  {
   "cell_type": "code",
   "execution_count": 50,
   "metadata": {},
   "outputs": [],
   "source": [
    "# Set path for importing our CSV file\n",
    "filepath = 'Resources/S&P_500_5yr_stock_data.csv'\n",
    "csvpath = os.path.join('..','Resources','S&P_500_5yr_stock_data.csv')"
   ]
  },
  {
   "cell_type": "code",
   "execution_count": 59,
   "metadata": {},
   "outputs": [
    {
     "name": "stdout",
     "output_type": "stream",
     "text": [
      "The day with the greatest daily percentage change was on 03/12/2020. On that day, the stock changed 6.055695304437575.\n",
      "The high of that day was 2660.95, and the low was 2478.86. The volume for that day was 5218633781.\n"
     ]
    }
   ],
   "source": [
    "# Open a connection to the comma-delimited csv file \n",
    "with open (csvpath) as csvfile:\n",
    "    # Read in the CSV file using csv.DictReader() class\n",
    "    csvDictReader = csv.DictReader(csvfile)\n",
    "    # Create variables to save our output row as printrow and greatest daily percent change as max_pct.\n",
    "    printrow = []\n",
    "    max_pct = 0\n",
    "    DPC =[]\n",
    "    # Iterate through each row\n",
    "    for row in csvDictReader:\n",
    "         #For each row, calculate the daily percent change\n",
    "        Open = float(row['Open'])\n",
    "        Close = float(row['Close'])\n",
    "        DPC = abs(((Open - Close)/Close)*100)\n",
    "        #Check if the absolute daily percent change is greater than the previous daily percent change.\n",
    "        if DPC > max_pct:\n",
    "            max_pct = DPC \n",
    "            printrow = row   \n",
    "# If true, store new greatest daily percent change and printrow   \n",
    "# Print out the date, stock high, stock low, volume and percent change for the day with the greatest percent change\n",
    "max_date = printrow['Date']\n",
    "max_high = printrow['High']\n",
    "max_low = printrow['Low']\n",
    "max_volume = printrow['Volume']\n",
    "\n",
    "print (\"The day with the greatest daily percentage change was on \" + str(max_date) +\". On that day, the stock changed \" + str(max_pct) + \".\")\n",
    "print (\"The high of that day was \" + str(max_high) +\", and the low was \" + str(max_low) +\". The volume for that day was \" + str(max_volume) +\".\")"
   ]
  },
  {
   "cell_type": "code",
   "execution_count": null,
   "metadata": {},
   "outputs": [],
   "source": []
  },
  {
   "cell_type": "code",
   "execution_count": null,
   "metadata": {},
   "outputs": [],
   "source": []
  },
  {
   "cell_type": "code",
   "execution_count": null,
   "metadata": {},
   "outputs": [],
   "source": []
  }
 ],
 "metadata": {
  "kernelspec": {
   "display_name": "Python 3 (ipykernel)",
   "language": "python",
   "name": "python3"
  },
  "language_info": {
   "codemirror_mode": {
    "name": "ipython",
    "version": 3
   },
   "file_extension": ".py",
   "mimetype": "text/x-python",
   "name": "python",
   "nbconvert_exporter": "python",
   "pygments_lexer": "ipython3",
   "version": "3.9.7"
  }
 },
 "nbformat": 4,
 "nbformat_minor": 4
}
