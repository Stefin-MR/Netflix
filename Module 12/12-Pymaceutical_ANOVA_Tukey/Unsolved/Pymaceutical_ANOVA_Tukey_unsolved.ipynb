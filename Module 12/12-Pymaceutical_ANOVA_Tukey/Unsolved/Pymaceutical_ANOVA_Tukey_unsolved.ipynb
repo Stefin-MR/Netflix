{
 "cells": [
  {
   "cell_type": "code",
   "execution_count": 12,
   "metadata": {},
   "outputs": [],
   "source": [
    "# Import the dependencies\n",
    "import pandas as pd\n",
    "import plotly.express as px\n",
    "import matplotlib.pyplot as plt\n",
    "import scipy.stats as sts\n",
    "from statsmodels.stats.multicomp import pairwise_tukeyhsd"
   ]
  },
  {
   "cell_type": "code",
   "execution_count": 13,
   "metadata": {},
   "outputs": [
    {
     "data": {
      "text/html": [
       "<div>\n",
       "<style scoped>\n",
       "    .dataframe tbody tr th:only-of-type {\n",
       "        vertical-align: middle;\n",
       "    }\n",
       "\n",
       "    .dataframe tbody tr th {\n",
       "        vertical-align: top;\n",
       "    }\n",
       "\n",
       "    .dataframe thead th {\n",
       "        text-align: right;\n",
       "    }\n",
       "</style>\n",
       "<table border=\"1\" class=\"dataframe\">\n",
       "  <thead>\n",
       "    <tr style=\"text-align: right;\">\n",
       "      <th></th>\n",
       "      <th>Mouse ID</th>\n",
       "      <th>Timepoint</th>\n",
       "      <th>Tumor Volume (mm3)</th>\n",
       "      <th>Metastatic Sites</th>\n",
       "      <th>Drug Regimen</th>\n",
       "      <th>Sex</th>\n",
       "      <th>Age_months</th>\n",
       "      <th>Weight (g)</th>\n",
       "    </tr>\n",
       "  </thead>\n",
       "  <tbody>\n",
       "    <tr>\n",
       "      <th>0</th>\n",
       "      <td>b128</td>\n",
       "      <td>0</td>\n",
       "      <td>45.0</td>\n",
       "      <td>0</td>\n",
       "      <td>Capomulin</td>\n",
       "      <td>Female</td>\n",
       "      <td>9</td>\n",
       "      <td>22</td>\n",
       "    </tr>\n",
       "    <tr>\n",
       "      <th>1</th>\n",
       "      <td>f932</td>\n",
       "      <td>0</td>\n",
       "      <td>45.0</td>\n",
       "      <td>0</td>\n",
       "      <td>Ketapril</td>\n",
       "      <td>Male</td>\n",
       "      <td>15</td>\n",
       "      <td>29</td>\n",
       "    </tr>\n",
       "    <tr>\n",
       "      <th>2</th>\n",
       "      <td>a457</td>\n",
       "      <td>0</td>\n",
       "      <td>45.0</td>\n",
       "      <td>0</td>\n",
       "      <td>Ketapril</td>\n",
       "      <td>Female</td>\n",
       "      <td>11</td>\n",
       "      <td>30</td>\n",
       "    </tr>\n",
       "    <tr>\n",
       "      <th>3</th>\n",
       "      <td>c819</td>\n",
       "      <td>0</td>\n",
       "      <td>45.0</td>\n",
       "      <td>0</td>\n",
       "      <td>Ketapril</td>\n",
       "      <td>Male</td>\n",
       "      <td>21</td>\n",
       "      <td>25</td>\n",
       "    </tr>\n",
       "    <tr>\n",
       "      <th>4</th>\n",
       "      <td>h246</td>\n",
       "      <td>0</td>\n",
       "      <td>45.0</td>\n",
       "      <td>0</td>\n",
       "      <td>Ketapril</td>\n",
       "      <td>Male</td>\n",
       "      <td>13</td>\n",
       "      <td>30</td>\n",
       "    </tr>\n",
       "  </tbody>\n",
       "</table>\n",
       "</div>"
      ],
      "text/plain": [
       "  Mouse ID  Timepoint  Tumor Volume (mm3)  Metastatic Sites Drug Regimen  \\\n",
       "0     b128          0                45.0                 0    Capomulin   \n",
       "1     f932          0                45.0                 0     Ketapril   \n",
       "2     a457          0                45.0                 0     Ketapril   \n",
       "3     c819          0                45.0                 0     Ketapril   \n",
       "4     h246          0                45.0                 0     Ketapril   \n",
       "\n",
       "      Sex  Age_months  Weight (g)  \n",
       "0  Female           9          22  \n",
       "1    Male          15          29  \n",
       "2  Female          11          30  \n",
       "3    Male          21          25  \n",
       "4    Male          13          30  "
      ]
     },
     "execution_count": 13,
     "metadata": {},
     "output_type": "execute_result"
    }
   ],
   "source": [
    "# Read the Pymaceutical_data.csv into a DataFrame\n",
    "pymaceutical_data = pd.read_csv('../Resources/Pymaceutical_data.csv')\n",
    "pymaceutical_data.head()"
   ]
  },
  {
   "cell_type": "markdown",
   "metadata": {},
   "source": [
    "### Does drug treatment significantly reduce tumor volume? "
   ]
  },
  {
   "cell_type": "code",
   "execution_count": 15,
   "metadata": {},
   "outputs": [
    {
     "data": {
      "image/png": "[encoded data removed]",
      "text/plain": [
       "<Figure size 432x288 with 1 Axes>"
      ]
     },
     "metadata": {
      "needs_background": "light"
     },
     "output_type": "display_data"
    }
   ],
   "source": [
    "# Create a boxplot that compares the drug regimens and tumor volume. \n",
    "treatment_list = ['Infubinol', 'Placebo', 'Ceftamin', 'Stelasyn', 'Zoniferol',\n",
    "       'Ramicane', 'Ketapril', 'Propriva', 'Naftisol', 'Capomulin']\n",
    "tumor_vol_list = []\n",
    "max_tumor = pymaceutical_data.groupby(['Mouse ID'])['Timepoint'].max()\n",
    "max_tumor = max_tumor.reset_index()\n",
    "merged_data = max_tumor.merge(pymaceutical_data, on=['Mouse ID', 'Timepoint'], how='left')\n",
    "merged_data.head()\n",
    "\n",
    "for drug in treatment_list:\n",
    "\n",
    "    # Locate the rows which match the drug and get the final tumor volumes of all mice\n",
    "    final_tumor_vol = merged_data.loc[merged_data['Drug Regimen'] == drug]['Tumor Volume (mm3)']\n",
    "        \n",
    "    # Append the outcome to the empty list previously created.\n",
    "    tumor_vol_list.append(final_tumor_vol)\n",
    "red_circle = dict(markerfacecolor='r', marker='o')\n",
    "plt.boxplot(tumor_vol_list, labels = treatment_list, flierprops=red_circle, vert=False)\n",
    "plt.xlabel('Final Tumor Volume (mm3)')\n",
    "plt.show()"
   ]
  },
  {
   "cell_type": "code",
   "execution_count": 22,
   "metadata": {},
   "outputs": [],
   "source": [
    "# Create individual data Series, one for each drug treatment that has the tumor volume for each mouse.\n",
    "group1 = merged_data[merged_data[\"Drug Regimen\"] == 'Infubinol'][\"Tumor Volume (mm3)\"]\n",
    "group2 = merged_data[merged_data[\"Drug Regimen\"] == 'Placebo'][\"Tumor Volume (mm3)\"]\n",
    "group3 = merged_data[merged_data[\"Drug Regimen\"] == 'Ceftamin'][\"Tumor Volume (mm3)\"]\n",
    "group4 = merged_data[merged_data[\"Drug Regimen\"] == 'Stelasyn'][\"Tumor Volume (mm3)\"]\n",
    "group5 = merged_data[merged_data[\"Drug Regimen\"] == 'Zoniferol'][\"Tumor Volume (mm3)\"]\n",
    "group6 = merged_data[merged_data[\"Drug Regimen\"] == 'Ramicane'][\"Tumor Volume (mm3)\"]\n",
    "group7 = merged_data[merged_data[\"Drug Regimen\"] == 'Ketapril'][\"Tumor Volume (mm3)\"]\n",
    "group8 = merged_data[merged_data[\"Drug Regimen\"] == 'Propriva'][\"Tumor Volume (mm3)\"]\n",
    "group9 = merged_data[merged_data[\"Drug Regimen\"] == 'Naftisol'][\"Tumor Volume (mm3)\"]\n",
    "group10 = merged_data[merged_data[\"Drug Regimen\"] == 'Capomulin'][\"Tumor Volume (mm3)\"]"
   ]
  },
  {
   "cell_type": "code",
   "execution_count": 24,
   "metadata": {},
   "outputs": [
    {
     "data": {
      "text/plain": [
       "F_onewayResult(statistic=32.5435072855367, pvalue=8.80912808073447e-36)"
      ]
     },
     "execution_count": 24,
     "metadata": {},
     "output_type": "execute_result"
    }
   ],
   "source": [
    "# Perform the ANOVA\n",
    "sts.f_oneway(group1, group2, group3, group4, group5,group6, group7, group8, group9, group10)\n"
   ]
  },
  {
   "cell_type": "code",
   "execution_count": 29,
   "metadata": {},
   "outputs": [
    {
     "name": "stdout",
     "output_type": "stream",
     "text": [
      "    Multiple Comparison of Means - Tukey HSD, FWER=0.05     \n",
      "============================================================\n",
      "  group1    group2  meandiff p-adj   lower    upper   reject\n",
      "------------------------------------------------------------\n",
      "Capomulin  Ceftamin  22.2101  0.001  14.2456  30.1747   True\n",
      "Capomulin Infubinol   22.313  0.001  14.4319  30.1942   True\n",
      "Capomulin  Ketapril  27.1728  0.001  19.2083  35.1374   True\n",
      "Capomulin  Naftisol  24.6918  0.001  16.6372  32.7463   True\n",
      "Capomulin   Placebo  23.8779  0.001  15.9134  31.8425   True\n",
      "Capomulin  Propriva  21.0268  0.001  12.8748  29.1788   True\n",
      "Capomulin  Ramicane   0.4259    0.9  -7.4552   8.3071  False\n",
      "Capomulin  Stelasyn  23.9584  0.001  15.9038  32.0129   True\n",
      "Capomulin Zoniferol  23.2421  0.001  15.2775  31.2067   True\n",
      " Ceftamin Infubinol   0.1029    0.9  -7.7782   7.9841  False\n",
      " Ceftamin  Ketapril   4.9627 0.5909  -3.0019  12.9273  False\n",
      " Ceftamin  Naftisol   2.4817    0.9  -5.5729  10.5362  False\n",
      " Ceftamin   Placebo   1.6678    0.9  -6.2968   9.6324  False\n",
      " Ceftamin  Propriva  -1.1833    0.9  -9.3353   6.9687  False\n",
      " Ceftamin  Ramicane -21.7842  0.001 -29.6654 -13.9031   True\n",
      " Ceftamin  Stelasyn   1.7482    0.9  -6.3063   9.8028  False\n",
      " Ceftamin Zoniferol    1.032    0.9  -6.9326   8.9965  False\n",
      "Infubinol  Ketapril   4.8598 0.6035  -3.0214  12.7409  False\n",
      "Infubinol  Naftisol   2.3787    0.9  -5.5933  10.3508  False\n",
      "Infubinol   Placebo   1.5649    0.9  -6.3163    9.446  False\n",
      "Infubinol  Propriva  -1.2863    0.9  -9.3568   6.7843  False\n",
      "Infubinol  Ramicane -21.8871  0.001  -29.684 -14.0903   True\n",
      "Infubinol  Stelasyn   1.6453    0.9  -6.3268   9.6174  False\n",
      "Infubinol Zoniferol    0.929    0.9  -6.9521   8.8102  False\n",
      " Ketapril  Naftisol   -2.481    0.9 -10.5356   5.5735  False\n",
      " Ketapril   Placebo  -3.2949    0.9 -11.2595   4.6697  False\n",
      " Ketapril  Propriva   -6.146 0.3249  -14.298    2.006  False\n",
      " Ketapril  Ramicane -26.7469  0.001 -34.6281 -18.8658   True\n",
      " Ketapril  Stelasyn  -3.2145    0.9  -11.269   4.8401  False\n",
      " Ketapril Zoniferol  -3.9307 0.8422 -11.8953   4.0338  False\n",
      " Naftisol   Placebo  -0.8139    0.9  -8.8684   7.2407  False\n",
      " Naftisol  Propriva   -3.665    0.9 -11.9049   4.5749  False\n",
      " Naftisol  Ramicane -24.2659  0.001  -32.238 -16.2938   True\n",
      " Naftisol  Stelasyn  -0.7334    0.9   -8.877   7.4101  False\n",
      " Naftisol Zoniferol  -1.4497    0.9  -9.5043   6.6049  False\n",
      "  Placebo  Propriva  -2.8511    0.9 -11.0031   5.3009  False\n",
      "  Placebo  Ramicane  -23.452  0.001 -31.3332 -15.5708   True\n",
      "  Placebo  Stelasyn   0.0804    0.9  -7.9741    8.135  False\n",
      "  Placebo Zoniferol  -0.6358    0.9  -8.6004   7.3287  False\n",
      " Propriva  Ramicane -20.6009  0.001 -28.6714 -12.5304   True\n",
      " Propriva  Stelasyn   2.9316    0.9  -5.3084  11.1715  False\n",
      " Propriva Zoniferol   2.2153    0.9  -5.9367  10.3673  False\n",
      " Ramicane  Stelasyn  23.5325  0.001  15.5604  31.5045   True\n",
      " Ramicane Zoniferol  22.8162  0.001   14.935  30.6973   True\n",
      " Stelasyn Zoniferol  -0.7163    0.9  -8.7708   7.3383  False\n",
      "------------------------------------------------------------\n"
     ]
    }
   ],
   "source": [
    "# Run Pairwise Tukey HSD test.\n",
    "tukey = pairwise_tukeyhsd(endog=merged_data[\"Tumor Volume (mm3)\"],\n",
    "                          groups=merged_data[\"Drug Regimen\"],\n",
    "                          alpha=0.05)\n",
    "print(tukey)"
   ]
  },
  {
   "cell_type": "markdown",
   "metadata": {},
   "source": [
    "#### Which drug treatments significantly reduce tumor volume? Support your results from the statistical analysis.\n",
    "#Ramicane and Capo Mulin. Based off boxplots those were the only 2 with significant lower means. They also were the only two with P values that were significant relative to the placebo"
   ]
  },
  {
   "cell_type": "markdown",
   "metadata": {},
   "source": [
    "### At 45 days, which drug treatments are more effective at significantly reducing the number of metastic sites? "
   ]
  },
  {
   "cell_type": "code",
   "execution_count": 38,
   "metadata": {},
   "outputs": [
    {
     "data": {
      "text/html": [
       "<div>\n",
       "<style scoped>\n",
       "    .dataframe tbody tr th:only-of-type {\n",
       "        vertical-align: middle;\n",
       "    }\n",
       "\n",
       "    .dataframe tbody tr th {\n",
       "        vertical-align: top;\n",
       "    }\n",
       "\n",
       "    .dataframe thead th {\n",
       "        text-align: right;\n",
       "    }\n",
       "</style>\n",
       "<table border=\"1\" class=\"dataframe\">\n",
       "  <thead>\n",
       "    <tr style=\"text-align: right;\">\n",
       "      <th></th>\n",
       "      <th>Mouse ID</th>\n",
       "      <th>Timepoint</th>\n",
       "      <th>Tumor Volume (mm3)</th>\n",
       "      <th>Metastatic Sites</th>\n",
       "      <th>Drug Regimen</th>\n",
       "      <th>Sex</th>\n",
       "      <th>Age_months</th>\n",
       "      <th>Weight (g)</th>\n",
       "    </tr>\n",
       "  </thead>\n",
       "  <tbody>\n",
       "    <tr>\n",
       "      <th>0</th>\n",
       "      <td>a203</td>\n",
       "      <td>45</td>\n",
       "      <td>67.973419</td>\n",
       "      <td>2.0</td>\n",
       "      <td>Infubinol</td>\n",
       "      <td>Female</td>\n",
       "      <td>20.0</td>\n",
       "      <td>23.0</td>\n",
       "    </tr>\n",
       "    <tr>\n",
       "      <th>1</th>\n",
       "      <td>a251</td>\n",
       "      <td>45</td>\n",
       "      <td>65.525743</td>\n",
       "      <td>1.0</td>\n",
       "      <td>Infubinol</td>\n",
       "      <td>Female</td>\n",
       "      <td>21.0</td>\n",
       "      <td>25.0</td>\n",
       "    </tr>\n",
       "    <tr>\n",
       "      <th>2</th>\n",
       "      <td>a262</td>\n",
       "      <td>45</td>\n",
       "      <td>70.717621</td>\n",
       "      <td>4.0</td>\n",
       "      <td>Placebo</td>\n",
       "      <td>Female</td>\n",
       "      <td>17.0</td>\n",
       "      <td>29.0</td>\n",
       "    </tr>\n",
       "    <tr>\n",
       "      <th>3</th>\n",
       "      <td>a275</td>\n",
       "      <td>45</td>\n",
       "      <td>62.999356</td>\n",
       "      <td>3.0</td>\n",
       "      <td>Ceftamin</td>\n",
       "      <td>Female</td>\n",
       "      <td>20.0</td>\n",
       "      <td>28.0</td>\n",
       "    </tr>\n",
       "    <tr>\n",
       "      <th>4</th>\n",
       "      <td>a366</td>\n",
       "      <td>30</td>\n",
       "      <td>NaN</td>\n",
       "      <td>NaN</td>\n",
       "      <td>NaN</td>\n",
       "      <td>NaN</td>\n",
       "      <td>NaN</td>\n",
       "      <td>NaN</td>\n",
       "    </tr>\n",
       "    <tr>\n",
       "      <th>...</th>\n",
       "      <td>...</td>\n",
       "      <td>...</td>\n",
       "      <td>...</td>\n",
       "      <td>...</td>\n",
       "      <td>...</td>\n",
       "      <td>...</td>\n",
       "      <td>...</td>\n",
       "      <td>...</td>\n",
       "    </tr>\n",
       "    <tr>\n",
       "      <th>223</th>\n",
       "      <td>z435</td>\n",
       "      <td>10</td>\n",
       "      <td>NaN</td>\n",
       "      <td>NaN</td>\n",
       "      <td>NaN</td>\n",
       "      <td>NaN</td>\n",
       "      <td>NaN</td>\n",
       "      <td>NaN</td>\n",
       "    </tr>\n",
       "    <tr>\n",
       "      <th>224</th>\n",
       "      <td>z578</td>\n",
       "      <td>45</td>\n",
       "      <td>30.638696</td>\n",
       "      <td>0.0</td>\n",
       "      <td>Ramicane</td>\n",
       "      <td>Male</td>\n",
       "      <td>11.0</td>\n",
       "      <td>16.0</td>\n",
       "    </tr>\n",
       "    <tr>\n",
       "      <th>225</th>\n",
       "      <td>z581</td>\n",
       "      <td>45</td>\n",
       "      <td>62.754451</td>\n",
       "      <td>3.0</td>\n",
       "      <td>Infubinol</td>\n",
       "      <td>Female</td>\n",
       "      <td>24.0</td>\n",
       "      <td>25.0</td>\n",
       "    </tr>\n",
       "    <tr>\n",
       "      <th>226</th>\n",
       "      <td>z795</td>\n",
       "      <td>45</td>\n",
       "      <td>65.741070</td>\n",
       "      <td>3.0</td>\n",
       "      <td>Naftisol</td>\n",
       "      <td>Female</td>\n",
       "      <td>13.0</td>\n",
       "      <td>29.0</td>\n",
       "    </tr>\n",
       "    <tr>\n",
       "      <th>227</th>\n",
       "      <td>z969</td>\n",
       "      <td>45</td>\n",
       "      <td>73.867845</td>\n",
       "      <td>4.0</td>\n",
       "      <td>Naftisol</td>\n",
       "      <td>Male</td>\n",
       "      <td>9.0</td>\n",
       "      <td>30.0</td>\n",
       "    </tr>\n",
       "  </tbody>\n",
       "</table>\n",
       "<p>228 rows × 8 columns</p>\n",
       "</div>"
      ],
      "text/plain": [
       "    Mouse ID  Timepoint  Tumor Volume (mm3)  Metastatic Sites Drug Regimen  \\\n",
       "0       a203         45           67.973419               2.0    Infubinol   \n",
       "1       a251         45           65.525743               1.0    Infubinol   \n",
       "2       a262         45           70.717621               4.0      Placebo   \n",
       "3       a275         45           62.999356               3.0     Ceftamin   \n",
       "4       a366         30                 NaN               NaN          NaN   \n",
       "..       ...        ...                 ...               ...          ...   \n",
       "223     z435         10                 NaN               NaN          NaN   \n",
       "224     z578         45           30.638696               0.0     Ramicane   \n",
       "225     z581         45           62.754451               3.0    Infubinol   \n",
       "226     z795         45           65.741070               3.0     Naftisol   \n",
       "227     z969         45           73.867845               4.0     Naftisol   \n",
       "\n",
       "        Sex  Age_months  Weight (g)  \n",
       "0    Female        20.0        23.0  \n",
       "1    Female        21.0        25.0  \n",
       "2    Female        17.0        29.0  \n",
       "3    Female        20.0        28.0  \n",
       "4       NaN         NaN         NaN  \n",
       "..      ...         ...         ...  \n",
       "223     NaN         NaN         NaN  \n",
       "224    Male        11.0        16.0  \n",
       "225  Female        24.0        25.0  \n",
       "226  Female        13.0        29.0  \n",
       "227    Male         9.0        30.0  \n",
       "\n",
       "[228 rows x 8 columns]"
      ]
     },
     "execution_count": 38,
     "metadata": {},
     "output_type": "execute_result"
    }
   ],
   "source": [
    "# Create a new DataFrame with the last time point (45 days). \n",
    "treatment_list = ['Infubinol', 'Placebo', 'Ceftamin', 'Stelasyn', 'Zoniferol',\n",
    "       'Ramicane', 'Ketapril', 'Propriva', 'Naftisol', 'Capomulin']\n",
    "tumor_vol_list = []\n",
    "Timepoint2 = pymaceutical_data.loc[pymaceutical_data['Timepoint'] == 45]\n",
    "\n",
    "max_tumor2 = Timepoint2.groupby(['Mouse ID'])['Timepoint'].max()\n",
    "max_tumor2 = max_tumor.reset_index()\n",
    "merged_data2 = max_tumor.merge(Timepoint2, on=['Mouse ID', 'Timepoint'], how='left')\n",
    "merged_data2"
   ]
  },
  {
   "cell_type": "code",
   "execution_count": 40,
   "metadata": {},
   "outputs": [
    {
     "data": {
      "image/png": "[encoded data removed]",
      "text/plain": [
       "<Figure size 432x288 with 1 Axes>"
      ]
     },
     "metadata": {
      "needs_background": "light"
     },
     "output_type": "display_data"
    }
   ],
   "source": [
    "# Create a boxplot that compares the drug regimens and metastatic sites.\n",
    "for drug in treatment_list:\n",
    "\n",
    "    # Locate the rows which match the drug and get the final tumor volumes of all mice\n",
    "    final_tumor_vol = Timepoint2.loc[Timepoint2['Drug Regimen'] == drug]['Tumor Volume (mm3)']\n",
    "        \n",
    "    # Append the outcome to the empty list previously created.\n",
    "    tumor_vol_list.append(final_tumor_vol)\n",
    "red_circle = dict(markerfacecolor='r', marker='o')\n",
    "plt.boxplot(tumor_vol_list, labels = treatment_list, flierprops=red_circle, vert=False)\n",
    "plt.xlabel('Final Tumor Volume (mm3)')\n",
    "plt.show()"
   ]
  },
  {
   "cell_type": "code",
   "execution_count": 41,
   "metadata": {},
   "outputs": [],
   "source": [
    "# Create individual data Series, one for each drug treatment that has the metastatic sites for each mouse.\n",
    "group1 = Timepoint2[Timepoint2[\"Drug Regimen\"] == 'Infubinol'][\"Tumor Volume (mm3)\"]\n",
    "group2 = Timepoint2[Timepoint2[\"Drug Regimen\"] == 'Placebo'][\"Tumor Volume (mm3)\"]\n",
    "group3 = Timepoint2[Timepoint2[\"Drug Regimen\"] == 'Ceftamin'][\"Tumor Volume (mm3)\"]\n",
    "group4 = Timepoint2[Timepoint2[\"Drug Regimen\"] == 'Stelasyn'][\"Tumor Volume (mm3)\"]\n",
    "group5 = Timepoint2[Timepoint2[\"Drug Regimen\"] == 'Zoniferol'][\"Tumor Volume (mm3)\"]\n",
    "group6 = Timepoint2[Timepoint2[\"Drug Regimen\"] == 'Ramicane'][\"Tumor Volume (mm3)\"]\n",
    "group7 = Timepoint2[Timepoint2[\"Drug Regimen\"] == 'Ketapril'][\"Tumor Volume (mm3)\"]\n",
    "group8 = Timepoint2[Timepoint2[\"Drug Regimen\"] == 'Propriva'][\"Tumor Volume (mm3)\"]\n",
    "group9 = Timepoint2[Timepoint2[\"Drug Regimen\"] == 'Naftisol'][\"Tumor Volume (mm3)\"]\n",
    "group10 = Timepoint2[Timepoint2[\"Drug Regimen\"] == 'Capomulin'][\"Tumor Volume (mm3)\"]"
   ]
  },
  {
   "cell_type": "code",
   "execution_count": 42,
   "metadata": {},
   "outputs": [
    {
     "data": {
      "text/plain": [
       "F_onewayResult(statistic=134.38835452320976, pvalue=1.9191683806228624e-55)"
      ]
     },
     "execution_count": 42,
     "metadata": {},
     "output_type": "execute_result"
    }
   ],
   "source": [
    "# Perform the ANOVA\n",
    "sts.f_oneway(group1, group2, group3, group4, group5,group6, group7, group8, group9, group10)\n"
   ]
  },
  {
   "cell_type": "code",
   "execution_count": 45,
   "metadata": {},
   "outputs": [
    {
     "name": "stdout",
     "output_type": "stream",
     "text": [
      "    Multiple Comparison of Means - Tukey HSD, FWER=0.05     \n",
      "============================================================\n",
      "  group1    group2  meandiff p-adj   lower    upper   reject\n",
      "------------------------------------------------------------\n",
      "Capomulin  Ceftamin  29.1013  0.001  23.5077  34.6948   True\n",
      "Capomulin Infubinol  30.3585  0.001  24.2201   36.497   True\n",
      "Capomulin  Ketapril  35.2659  0.001  29.5186  41.0132   True\n",
      "Capomulin  Naftisol  33.3811  0.001  27.7876  38.9747   True\n",
      "Capomulin   Placebo  32.1742  0.001  26.2476  38.1007   True\n",
      "Capomulin  Propriva  30.8615  0.001  24.1543  37.5686   True\n",
      "Capomulin  Ramicane  -0.1952    0.9  -5.1169   4.7265  False\n",
      "Capomulin  Stelasyn  32.1726  0.001  26.0342  38.3111   True\n",
      "Capomulin Zoniferol    30.36  0.001  24.8998  35.8201   True\n",
      " Ceftamin Infubinol   1.2573    0.9   -5.432   7.9465  False\n",
      " Ceftamin  Ketapril   6.1647 0.0634  -0.1675  12.4969  False\n",
      " Ceftamin  Naftisol   4.2799 0.4452  -1.9131  10.4729  False\n",
      " Ceftamin   Placebo   3.0729 0.8705  -3.4224   9.5682  False\n",
      " Ceftamin  Propriva   1.7602    0.9  -5.4544   8.9749  False\n",
      " Ceftamin  Ramicane -29.2964  0.001   -34.89 -23.7028   True\n",
      " Ceftamin  Stelasyn   3.0714 0.8975  -3.6178   9.7606  False\n",
      " Ceftamin Zoniferol   1.2587    0.9   -4.814   7.3315  False\n",
      "Infubinol  Ketapril   4.9074 0.3844  -1.9109  11.7257  False\n",
      "Infubinol  Naftisol   3.0226    0.9  -3.6666   9.7118  False\n",
      "Infubinol   Placebo   1.8156    0.9  -5.1544   8.7856  False\n",
      "Infubinol  Propriva    0.503    0.9  -7.1419   8.1478  False\n",
      "Infubinol  Ramicane -30.5537  0.001 -36.6921 -24.4152   True\n",
      "Infubinol  Stelasyn   1.8141    0.9  -5.3369   8.9652  False\n",
      "Infubinol Zoniferol   0.0015    0.9  -6.5766   6.5795  False\n",
      " Ketapril  Naftisol  -1.8848    0.9   -8.217   4.4474  False\n",
      " Ketapril   Placebo  -3.0918 0.8833  -9.7199   3.5364  False\n",
      " Ketapril  Propriva  -4.4044 0.6237 -11.7389     2.93  False\n",
      " Ketapril  Ramicane -35.4611  0.001 -41.2084 -29.7138   True\n",
      " Ketapril  Stelasyn  -3.0933    0.9  -9.9116    3.725  False\n",
      " Ketapril Zoniferol  -4.9059 0.2548 -11.1206   1.3087  False\n",
      " Naftisol   Placebo   -1.207    0.9  -7.7023   5.2883  False\n",
      " Naftisol  Propriva  -2.5197    0.9  -9.7343    4.695  False\n",
      " Naftisol  Ramicane -33.5763  0.001 -39.1699 -27.9827   True\n",
      " Naftisol  Stelasyn  -1.2085    0.9  -7.8977   5.4807  False\n",
      " Naftisol Zoniferol  -3.0212 0.8232  -9.0939   3.0516  False\n",
      "  Placebo  Propriva  -1.3127    0.9  -8.7884   6.1631  False\n",
      "  Placebo  Ramicane -32.3693  0.001 -38.2958 -26.4428   True\n",
      "  Placebo  Stelasyn  -0.0015    0.9  -6.9715   6.9685  False\n",
      "  Placebo Zoniferol  -1.8142    0.9  -8.1949   4.5666  False\n",
      " Propriva  Ramicane -31.0567  0.001 -37.7638 -24.3495   True\n",
      " Propriva  Stelasyn   1.3112    0.9  -6.3337    8.956  False\n",
      " Propriva Zoniferol  -0.5015    0.9  -7.6132   6.6102  False\n",
      " Ramicane  Stelasyn  32.3678  0.001  26.2294  38.5063   True\n",
      " Ramicane Zoniferol  30.5552  0.001   25.095  36.0153   True\n",
      " Stelasyn Zoniferol  -1.8127    0.9  -8.3907   4.7654  False\n",
      "------------------------------------------------------------\n"
     ]
    }
   ],
   "source": [
    "# Run Pairwise Tukey HSD test.\n",
    "tukey2 = pairwise_tukeyhsd(endog=Timepoint2[\"Tumor Volume (mm3)\"],\n",
    "                          groups=Timepoint2[\"Drug Regimen\"],\n",
    "                          alpha=0.05)\n",
    "print(tukey2)"
   ]
  },
  {
   "cell_type": "markdown",
   "metadata": {},
   "source": [
    "#### Which drug treatments significantly reduce the number of metastatic sites? Support your results from the statistical analysis?\n"
   ]
  },
  {
   "cell_type": "markdown",
   "metadata": {},
   "source": [
    "### Final Summary \n",
    "\n"
   ]
  },
  {
   "cell_type": "code",
   "execution_count": 44,
   "metadata": {},
   "outputs": [],
   "source": [
    "#Ramicane and Capomulin both held P values that were significant since P<0.01. They both had tumor volumes that were significant smaller from the placebo as can be seen by the boxplot. We also notice that the placebo had no noticeable different with any of other treat options. "
   ]
  },
  {
   "cell_type": "code",
   "execution_count": null,
   "metadata": {},
   "outputs": [],
   "source": []
  }
 ],
 "metadata": {
  "kernelspec": {
   "display_name": "Python 3 (ipykernel)",
   "language": "python",
   "name": "python3"
  },
  "language_info": {
   "codemirror_mode": {
    "name": "ipython",
    "version": 3
   },
   "file_extension": ".py",
   "mimetype": "text/x-python",
   "name": "python",
   "nbconvert_exporter": "python",
   "pygments_lexer": "ipython3",
   "version": "3.9.7"
  }
 },
 "nbformat": 4,
 "nbformat_minor": 4
}
