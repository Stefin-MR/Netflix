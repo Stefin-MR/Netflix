{
 "cells": [
  {
   "cell_type": "markdown",
   "metadata": {},
   "source": [
    "# Instructions"
   ]
  },
  {
   "cell_type": "markdown",
   "metadata": {},
   "source": [
    "Read each question carefully and provide an appropriate answer in the following cells. Depending on the question, you may need to provide code or a text submission. **Be sure to label your answers with the question number for easy identification!**"
   ]
  },
  {
   "cell_type": "code",
   "execution_count": 112,
   "metadata": {},
   "outputs": [],
   "source": [
    "#  Import the necessary dependencies.\n",
    "import numpy as np\n",
    "import pandas as pd\n",
    "import scipy.stats as sts\n",
    "import statsmodels.api as sm\n",
    "import plotly.express as px\n",
    "from scipy import stats"
   ]
  },
  {
   "cell_type": "markdown",
   "metadata": {},
   "source": [
    "**Question 1: Create a code block that imports the `student.json` file into a Pandas dataframe named `grades`, then calculates the measures of central tendency for the final grades. (6 points)**"
   ]
  },
  {
   "cell_type": "code",
   "execution_count": 113,
   "metadata": {
    "scrolled": false
   },
   "outputs": [
    {
     "name": "stdout",
     "output_type": "stream",
     "text": [
      "       Midterm Exam  Midterm Paper  Final Exam  Final Paper  Final Grade\n",
      "count     24.000000      24.000000   24.000000    24.000000    24.000000\n",
      "mean      71.708333      73.958333   78.458333    69.000000    73.333333\n",
      "std       19.523629      20.964731   19.049088    19.392962    14.445299\n",
      "min       41.000000      42.000000   43.000000    43.000000    49.000000\n",
      "25%       53.750000      55.750000   66.250000    53.000000    59.750000\n",
      "50%       72.000000      77.000000   87.500000    60.000000    74.500000\n",
      "75%       89.250000      93.250000   92.250000    87.000000    85.000000\n",
      "max      100.000000     100.000000  100.000000   100.000000    96.000000\n",
      "Midterm Exam     72.0\n",
      "Midterm Paper    77.0\n",
      "Final Exam       87.5\n",
      "Final Paper      60.0\n",
      "Final Grade      74.5\n",
      "dtype: float64\n"
     ]
    },
    {
     "name": "stderr",
     "output_type": "stream",
     "text": [
      "C:\\Users\\yet89\\AppData\\Local\\Temp/ipykernel_14828/1213732067.py:5: FutureWarning:\n",
      "\n",
      "Dropping of nuisance columns in DataFrame reductions (with 'numeric_only=None') is deprecated; in a future version this will raise TypeError.  Select only valid columns before calling the reduction.\n",
      "\n"
     ]
    }
   ],
   "source": [
    "# Answer 1\n",
    "\n",
    "grades = pd.read_json('Resources/student.json')\n",
    "Describe = grades.describe()\n",
    "Median = grades.median()\n",
    "print(Describe)\n",
    "print (Median)"
   ]
  },
  {
   "cell_type": "markdown",
   "metadata": {},
   "source": [
    "**Question 2: Create a code block that imports the `2020_Car_mpg.xlsx` file into a Pandas dataframe named `fuel_data`, then creates a histogram of for all the City mpg of all 6 cylinder vehicles, and tests for normal distribution. (6 points)**"
   ]
  },
  {
   "cell_type": "code",
   "execution_count": 114,
   "metadata": {
    "scrolled": true
   },
   "outputs": [
    {
     "data": {
      "text/plain": [
       "NormaltestResult(statistic=81.66604136829349, pvalue=1.8469044913824772e-18)"
      ]
     },
     "execution_count": 114,
     "metadata": {},
     "output_type": "execute_result"
    },
    {
     "data": {
      "image/png": "[encoded data removed]",
      "text/plain": [
       "<Figure size 432x288 with 1 Axes>"
      ]
     },
     "metadata": {
      "needs_background": "light"
     },
     "output_type": "display_data"
    }
   ],
   "source": [
    "fuel_data = pd.read_excel('Resources/2020_Car_mpg.xlsx')\n",
    "fuel_data.head()\n",
    "fuel_data = fuel_data[fuel_data['# Cyl']==6]\n",
    "fuel_data['City(mpg)'].hist()\n",
    "stats.normaltest(fuel_data['City(mpg)'])\n",
    "#Not a normal distribution, p value small, we can reject normality\n",
    "#fuel_data.hist(by='')"
   ]
  },
  {
   "cell_type": "markdown",
   "metadata": {},
   "source": [
    "**Question 3: Which of the following statements calculates the correlation coefficient? (2 points):**\n",
    "\n",
    "A. \n",
    "```python\n",
    "import scipy.stats as sts\n",
    "sts.pearson()\n",
    "```\n",
    "\n",
    "B.\n",
    "```python\n",
    "import scipy.stats as sts\n",
    "sts.corr()\n",
    "```\n",
    "\n",
    "C. \n",
    "```python\n",
    "import scipy.stats as sts\n",
    "sts.spearmanr()\n",
    "```\n",
    "\n",
    "D. \n",
    "```python\n",
    "import scipy.stats as sts\n",
    "sts.pearsonr()\n",
    "```"
   ]
  },
  {
   "cell_type": "code",
   "execution_count": 115,
   "metadata": {},
   "outputs": [],
   "source": [
    "# Answer 3 \n",
    "#D"
   ]
  },
  {
   "cell_type": "markdown",
   "metadata": {},
   "source": [
    "**Question 4: Create a code block that performs the following operations: (10 points)**\n",
    "\n",
    "   1. Import the `2020_Car_mpg.xlsx` file into a Pandas dataframe called `fuel_data`.\n",
    "   \n",
    "   2. Drop the `Mfr Name`, `Division`, and `Carline` columns.\n",
    "   \n",
    "   3. Using the `OLS()` regression model from the Statsmodels library, create a multiple linear regression model that determines if the number of cylinders in a vehicle affects the city, highway and combined mpg of the vehicle.\n",
    "  "
   ]
  },
  {
   "cell_type": "code",
   "execution_count": 116,
   "metadata": {},
   "outputs": [
    {
     "name": "stdout",
     "output_type": "stream",
     "text": [
      "                                 OLS Regression Results                                \n",
      "=======================================================================================\n",
      "Dep. Variable:                  # Cyl   R-squared (uncentered):                   0.810\n",
      "Model:                            OLS   Adj. R-squared (uncentered):              0.810\n",
      "Method:                 Least Squares   F-statistic:                              1659.\n",
      "Date:                Thu, 28 Apr 2022   Prob (F-statistic):                        0.00\n",
      "Time:                        23:51:08   Log-Likelihood:                         -2770.8\n",
      "No. Observations:                1168   AIC:                                      5548.\n",
      "Df Residuals:                    1165   BIC:                                      5563.\n",
      "Df Model:                           3                                                  \n",
      "Covariance Type:            nonrobust                                                  \n",
      "=================================================================================\n",
      "                    coef    std err          t      P>|t|      [0.025      0.975]\n",
      "---------------------------------------------------------------------------------\n",
      "City(mpg)         0.1448      0.131      1.107      0.268      -0.112       0.402\n",
      "Hwy(mpg)          0.8474      0.077     10.976      0.000       0.696       0.999\n",
      "Combined(mpg)    -0.9052      0.202     -4.490      0.000      -1.301      -0.510\n",
      "==============================================================================\n",
      "Omnibus:                       85.339   Durbin-Watson:                   0.760\n",
      "Prob(Omnibus):                  0.000   Jarque-Bera (JB):              107.250\n",
      "Skew:                           0.651   Prob(JB):                     5.14e-24\n",
      "Kurtosis:                       3.712   Cond. No.                         141.\n",
      "==============================================================================\n",
      "\n",
      "Notes:\n",
      "[1] R² is computed without centering (uncentered) since the model does not contain a constant.\n",
      "[2] Standard Errors assume that the covariance matrix of the errors is correctly specified.\n"
     ]
    }
   ],
   "source": [
    "# Answer 4.\n",
    "fuel_data = pd.read_excel('Resources/2020_Car_mpg.xlsx')\n",
    "fuel_data.drop(['Mfr Name','Division','Carline'],axis=1)\n",
    "x1 = fuel_data['City(mpg)']\n",
    "x2 = fuel_data['Hwy(mpg)']\n",
    "x3 = fuel_data['Combined(mpg)']\n",
    "X= fuel_data[['City(mpg)','Hwy(mpg)','Combined(mpg)']]\n",
    "y1 = fuel_data['# Cyl']\n",
    "\n",
    "model = sm.OLS(y1,X)\n",
    "results=model.fit()\n",
    "print(results.summary())\n",
    "#Maybe I'm misreading the question but since this is a multiple linear regression there'll be multiple independent variables\n",
    "#and in this case since the question grouped city, hwy, and combined together, I put them down as the independent variables."
   ]
  },
  {
   "cell_type": "markdown",
   "metadata": {},
   "source": [
    "**Question 5: Create a code block that imports the `donors2008.csv` file into a Pandas DataFrame called `donors_df`, then calculates the interquartile range (IQR) and where the outliers would lie. (6 points)**"
   ]
  },
  {
   "cell_type": "code",
   "execution_count": 117,
   "metadata": {},
   "outputs": [
    {
     "data": {
      "text/html": [
       "<div>\n",
       "<style scoped>\n",
       "    .dataframe tbody tr th:only-of-type {\n",
       "        vertical-align: middle;\n",
       "    }\n",
       "\n",
       "    .dataframe tbody tr th {\n",
       "        vertical-align: top;\n",
       "    }\n",
       "\n",
       "    .dataframe thead th {\n",
       "        text-align: right;\n",
       "    }\n",
       "</style>\n",
       "<table border=\"1\" class=\"dataframe\">\n",
       "  <thead>\n",
       "    <tr style=\"text-align: right;\">\n",
       "      <th></th>\n",
       "      <th>Amount</th>\n",
       "      <th>FIELD8</th>\n",
       "    </tr>\n",
       "  </thead>\n",
       "  <tbody>\n",
       "    <tr>\n",
       "      <th>count</th>\n",
       "      <td>1776.000000</td>\n",
       "      <td>0.0</td>\n",
       "    </tr>\n",
       "    <tr>\n",
       "      <th>mean</th>\n",
       "      <td>659.311622</td>\n",
       "      <td>NaN</td>\n",
       "    </tr>\n",
       "    <tr>\n",
       "      <th>std</th>\n",
       "      <td>1274.416858</td>\n",
       "      <td>NaN</td>\n",
       "    </tr>\n",
       "    <tr>\n",
       "      <th>min</th>\n",
       "      <td>5.000000</td>\n",
       "      <td>NaN</td>\n",
       "    </tr>\n",
       "    <tr>\n",
       "      <th>25%</th>\n",
       "      <td>200.000000</td>\n",
       "      <td>NaN</td>\n",
       "    </tr>\n",
       "    <tr>\n",
       "      <th>50%</th>\n",
       "      <td>250.000000</td>\n",
       "      <td>NaN</td>\n",
       "    </tr>\n",
       "    <tr>\n",
       "      <th>75%</th>\n",
       "      <td>500.000000</td>\n",
       "      <td>NaN</td>\n",
       "    </tr>\n",
       "    <tr>\n",
       "      <th>max</th>\n",
       "      <td>5000.000000</td>\n",
       "      <td>NaN</td>\n",
       "    </tr>\n",
       "  </tbody>\n",
       "</table>\n",
       "</div>"
      ],
      "text/plain": [
       "            Amount  FIELD8\n",
       "count  1776.000000     0.0\n",
       "mean    659.311622     NaN\n",
       "std    1274.416858     NaN\n",
       "min       5.000000     NaN\n",
       "25%     200.000000     NaN\n",
       "50%     250.000000     NaN\n",
       "75%     500.000000     NaN\n",
       "max    5000.000000     NaN"
      ]
     },
     "execution_count": 117,
     "metadata": {},
     "output_type": "execute_result"
    }
   ],
   "source": [
    "# Answer 5.\n",
    "donors_df = pd.read_csv('Resources/donors2008.csv')\n",
    "donors_df.describe()\n",
    "#IQR = 200 - 500\n",
    "#Upper outliers = 500+1.5*(500-200)=Values above 950\n",
    "#Lower outliers = 500 - 1.5*(500-200)=Values below 50"
   ]
  },
  {
   "cell_type": "markdown",
   "metadata": {},
   "source": [
    "**Question 6: Create a code block that performs the following operations: (10 points)**\n",
    "\n",
    "1. Imports the `2020_Car_mpg.xlsx` file into a Pandas DataFrame called `fuel_data`.\n",
    "2. Creates a box plot that compares each type of cylinder with the city mpg.\n",
    "3. Creates individual groups for 3, 4, 6, 8, and 12 cylinder vehicles.\n",
    "4. Performs ANOVA on all the groups."
   ]
  },
  {
   "cell_type": "code",
   "execution_count": 118,
   "metadata": {},
   "outputs": [
    {
     "data": {
      "application/vnd.plotly.v1+json": {
       "config": {
        "plotlyServerURL": "https://plot.ly"
       },
       "data": [
        {
         "alignmentgroup": "True",
         "hovertemplate": "# Cyl=%{x}<br>City(mpg)=%{y}<extra></extra>",
         "legendgroup": "",
         "marker": {
          "color": "#636efa"
         },
         "name": "",
         "notched": false,
         "offsetgroup": "",
         "orientation": "v",
         "showlegend": false,
         "type": "box",
         "x": [
          6,
          4,
          8,
          8,
          10,
          10,
          4,
          6,
          4,
          16,
          16,
          8,
          8,
          8,
          12,
          8,
          4,
          4,
          6,
          8,
          8,
          4,
          6,
          4,
          6,
          6,
          6,
          6,
          6,
          8,
          8,
          12,
          12,
          10,
          10,
          10,
          10,
          4,
          4,
          8,
          8,
          8,
          8,
          8,
          8,
          8,
          8,
          8,
          8,
          8,
          8,
          8,
          8,
          6,
          6,
          8,
          4,
          6,
          6,
          6,
          6,
          6,
          4,
          4,
          4,
          4,
          4,
          4,
          4,
          4,
          4,
          4,
          4,
          4,
          6,
          12,
          8,
          12,
          8,
          12,
          12,
          8,
          8,
          6,
          6,
          6,
          6,
          3,
          4,
          4,
          6,
          6,
          6,
          6,
          6,
          6,
          6,
          6,
          6,
          6,
          6,
          6,
          4,
          4,
          4,
          4,
          4,
          4,
          4,
          4,
          4,
          4,
          5,
          4,
          6,
          6,
          4,
          5,
          4,
          8,
          12,
          4,
          4,
          4,
          4,
          4,
          4,
          4,
          6,
          6,
          6,
          6,
          6,
          6,
          6,
          6,
          6,
          6,
          6,
          6,
          6,
          6,
          6,
          6,
          6,
          6,
          6,
          6,
          6,
          6,
          6,
          8,
          8,
          8,
          8,
          8,
          8,
          4,
          4,
          6,
          6,
          8,
          8,
          8,
          8,
          4,
          4,
          4,
          4,
          4,
          4,
          8,
          8,
          8,
          4,
          4,
          8,
          4,
          4,
          4,
          4,
          8,
          8,
          6,
          6,
          6,
          6,
          8,
          6,
          4,
          6,
          6,
          6,
          8,
          4,
          4,
          4,
          6,
          6,
          8,
          8,
          8,
          8,
          6,
          6,
          8,
          4,
          4,
          4,
          4,
          6,
          6,
          6,
          6,
          8,
          3,
          3,
          4,
          4,
          4,
          6,
          8,
          8,
          4,
          6,
          6,
          4,
          6,
          4,
          6,
          4,
          4,
          6,
          4,
          4,
          4,
          4,
          4,
          4,
          4,
          4,
          6,
          6,
          6,
          6,
          6,
          6,
          4,
          6,
          6,
          6,
          6,
          6,
          6,
          6,
          4,
          4,
          4,
          4,
          4,
          4,
          4,
          4,
          6,
          4,
          4,
          6,
          4,
          4,
          4,
          4,
          4,
          4,
          4,
          4,
          4,
          4,
          4,
          4,
          4,
          4,
          4,
          4,
          4,
          4,
          8,
          4,
          6,
          6,
          6,
          4,
          4,
          4,
          4,
          4,
          4,
          4,
          4,
          4,
          6,
          8,
          8,
          4,
          4,
          6,
          6,
          8,
          8,
          8,
          4,
          4,
          4,
          4,
          6,
          6,
          8,
          3,
          3,
          3,
          3,
          4,
          4,
          12,
          4,
          4,
          4,
          4,
          4,
          4,
          4,
          4,
          4,
          4,
          4,
          4,
          4,
          4,
          4,
          4,
          4,
          4,
          4,
          4,
          4,
          4,
          4,
          4,
          4,
          4,
          6,
          6,
          4,
          6,
          4,
          4,
          4,
          6,
          6,
          6,
          6,
          6,
          12,
          8,
          4,
          4,
          6,
          6,
          6,
          6,
          8,
          8,
          8,
          8,
          8,
          8,
          4,
          4,
          4,
          4,
          4,
          6,
          4,
          6,
          4,
          6,
          6,
          6,
          4,
          4,
          6,
          8,
          8,
          8,
          8,
          6,
          8,
          8,
          8,
          8,
          8,
          8,
          4,
          4,
          4,
          4,
          4,
          4,
          4,
          4,
          4,
          4,
          4,
          4,
          4,
          4,
          4,
          4,
          4,
          4,
          4,
          4,
          4,
          6,
          6,
          6,
          6,
          4,
          4,
          4,
          6,
          4,
          4,
          4,
          4,
          4,
          4,
          4,
          4,
          6,
          4,
          6,
          4,
          6,
          6,
          6,
          6,
          6,
          6,
          6,
          6,
          6,
          4,
          4,
          6,
          4,
          6,
          4,
          6,
          6,
          6,
          4,
          4,
          4,
          4,
          4,
          6,
          8,
          4,
          4,
          6,
          3,
          3,
          4,
          4,
          4,
          4,
          4,
          4,
          4,
          4,
          4,
          4,
          4,
          4,
          6,
          4,
          4,
          12,
          4,
          4,
          4,
          4,
          6,
          4,
          4,
          6,
          4,
          6,
          4,
          4,
          4,
          4,
          4,
          6,
          4,
          6,
          4,
          4,
          4,
          4,
          4,
          6,
          8,
          8,
          6,
          6,
          8,
          8,
          12,
          4,
          4,
          6,
          8,
          6,
          6,
          6,
          8,
          6,
          6,
          8,
          8,
          6,
          8,
          8,
          6,
          6,
          8,
          6,
          6,
          8,
          6,
          8,
          6,
          8,
          4,
          4,
          4,
          4,
          4,
          4,
          4,
          4,
          4,
          4,
          4,
          4,
          4,
          4,
          4,
          4,
          4,
          4,
          4,
          4,
          6,
          6,
          4,
          4,
          4,
          4,
          6,
          6,
          6,
          6,
          6,
          6,
          8,
          6,
          6,
          8,
          12,
          12,
          6,
          6,
          8,
          8,
          8,
          6,
          6,
          6,
          6,
          6,
          6,
          6,
          8,
          8,
          8,
          8,
          8,
          12,
          12,
          12,
          12,
          4,
          4,
          4,
          4,
          4,
          4,
          4,
          4,
          4,
          4,
          4,
          4,
          4,
          4,
          4,
          4,
          4,
          4,
          4,
          4,
          4,
          4,
          4,
          4,
          4,
          4,
          4,
          4,
          4,
          4,
          6,
          4,
          6,
          8,
          6,
          6,
          6,
          12,
          12,
          4,
          4,
          4,
          4,
          4,
          6,
          4,
          4,
          6,
          6,
          4,
          6,
          4,
          4,
          6,
          4,
          6,
          4,
          4,
          6,
          4,
          6,
          6,
          6,
          4,
          4,
          6,
          6,
          8,
          8,
          8,
          8,
          6,
          8,
          8,
          6,
          6,
          6,
          6,
          8,
          6,
          4,
          4,
          4,
          6,
          6,
          8,
          8,
          8,
          8,
          6,
          8,
          6,
          6,
          8,
          8,
          6,
          8,
          6,
          8,
          8,
          4,
          4,
          6,
          6,
          8,
          8,
          8,
          8,
          8,
          6,
          8,
          8,
          8,
          8,
          8,
          6,
          6,
          6,
          6,
          8,
          6,
          6,
          6,
          4,
          4,
          4,
          6,
          6,
          8,
          8,
          8,
          8,
          8,
          6,
          8,
          8,
          8,
          8,
          6,
          6,
          6,
          6,
          8,
          8,
          6,
          6,
          8,
          8,
          6,
          8,
          8,
          6,
          6,
          4,
          4,
          4,
          4,
          4,
          4,
          4,
          4,
          4,
          4,
          4,
          4,
          4,
          4,
          4,
          4,
          4,
          6,
          8,
          6,
          8,
          6,
          8,
          6,
          8,
          6,
          6,
          6,
          6,
          6,
          6,
          6,
          6,
          6,
          4,
          4,
          4,
          4,
          4,
          3,
          3,
          4,
          4,
          4,
          6,
          6,
          4,
          4,
          6,
          4,
          4,
          4,
          4,
          3,
          4,
          3,
          4,
          4,
          4,
          4,
          6,
          6,
          6,
          4,
          4,
          4,
          4,
          4,
          4,
          4,
          6,
          4,
          4,
          6,
          4,
          4,
          4,
          4,
          4,
          6,
          4,
          4,
          6,
          4,
          6,
          6,
          4,
          4,
          4,
          4,
          4,
          4,
          4,
          4,
          4,
          4,
          4,
          4,
          4,
          6,
          4,
          6,
          6,
          4,
          4,
          4,
          4,
          6,
          4,
          6,
          4,
          4,
          4,
          6,
          6,
          6,
          4,
          4,
          4,
          6,
          4,
          4,
          6,
          6,
          6,
          6,
          4,
          6,
          6,
          6,
          4,
          4,
          3,
          4,
          4,
          4,
          4,
          6,
          6,
          4,
          6,
          4,
          4,
          4,
          4,
          4,
          4,
          4,
          6,
          3,
          4,
          4,
          4,
          4,
          4,
          4,
          6,
          6,
          6,
          4,
          4,
          4,
          4,
          4,
          4,
          4,
          6,
          4,
          4,
          4,
          6,
          8,
          4,
          4,
          4,
          6,
          4,
          6,
          4,
          6,
          4,
          4,
          4,
          4,
          4,
          4,
          4,
          6,
          6,
          4,
          4,
          6,
          6,
          6,
          6,
          4,
          6,
          4,
          4,
          6,
          4,
          4,
          4,
          4,
          4,
          6,
          8,
          4,
          6,
          4,
          4,
          4,
          6,
          6,
          4,
          4,
          4,
          6,
          4,
          4,
          4,
          4,
          4,
          6,
          6,
          8,
          8,
          8,
          4,
          4,
          4,
          4,
          4,
          4,
          4,
          4,
          4,
          6,
          4,
          4,
          6,
          6,
          4,
          4,
          6,
          6,
          6,
          4,
          4,
          4,
          4,
          4,
          6,
          4,
          4,
          4,
          4,
          4,
          4,
          6,
          4,
          4,
          4,
          4,
          6,
          6,
          6,
          8,
          8,
          8,
          8,
          8,
          8,
          8,
          6,
          6,
          8,
          6,
          6,
          6,
          4,
          4,
          4,
          6,
          8,
          8,
          8,
          8,
          8,
          8,
          6,
          8,
          6,
          6,
          6,
          6,
          8,
          6,
          8,
          4,
          4,
          6,
          6,
          8,
          8,
          8,
          8,
          12,
          8,
          8,
          8,
          6,
          8,
          8,
          8,
          8,
          6,
          8,
          6,
          8,
          6,
          8,
          8,
          8,
          8,
          8,
          8,
          8,
          6,
          6,
          8,
          8,
          6,
          6,
          4,
          6,
          6,
          6,
          4,
          6,
          8,
          8,
          8,
          8,
          8,
          8,
          6,
          8,
          6,
          8,
          8,
          8,
          8,
          4,
          6,
          4,
          6,
          6,
          6,
          6,
          8,
          8,
          8,
          6,
          6,
          8,
          8,
          8,
          8,
          8,
          6,
          6,
          6,
          6,
          6,
          8,
          6,
          8,
          8,
          8,
          6,
          8,
          6,
          8,
          8,
          6,
          6,
          6,
          6,
          8,
          8,
          4,
          4,
          6,
          6,
          4,
          4,
          8,
          8,
          6,
          4,
          4,
          12,
          12,
          12,
          6,
          6,
          8,
          12,
          12,
          12,
          8
         ],
         "x0": " ",
         "xaxis": "x",
         "y": [
          21,
          24,
          14,
          18,
          13,
          13,
          23,
          24,
          24,
          9,
          9,
          15,
          15,
          15,
          12,
          15,
          25,
          26,
          12,
          16,
          16,
          23,
          20,
          23,
          20,
          18,
          18,
          19,
          19,
          16,
          16,
          9,
          9,
          13,
          13,
          13,
          13,
          26,
          26,
          15,
          15,
          15,
          15,
          15,
          15,
          15,
          12,
          16,
          16,
          15,
          15,
          15,
          15,
          20,
          20,
          17,
          23,
          19,
          17,
          18,
          16,
          16,
          21,
          20,
          19,
          19,
          21,
          20,
          21,
          20,
          19,
          19,
          21,
          20,
          24,
          15,
          18,
          14,
          16,
          12,
          12,
          15,
          16,
          17,
          16,
          17,
          17,
          28,
          26,
          25,
          18,
          18,
          18,
          18,
          17,
          18,
          17,
          17,
          18,
          17,
          18,
          17,
          24,
          21,
          20,
          24,
          21,
          27,
          22,
          22,
          23,
          24,
          19,
          22,
          20,
          19,
          23,
          19,
          23,
          16,
          12,
          23,
          24,
          21,
          21,
          21,
          23,
          22,
          22,
          20,
          22,
          23,
          20,
          21,
          17,
          18,
          16,
          17,
          22,
          19,
          22,
          19,
          22,
          19,
          22,
          22,
          22,
          16,
          17,
          16,
          17,
          15,
          15,
          15,
          15,
          17,
          18,
          22,
          20,
          19,
          16,
          13,
          16,
          16,
          14,
          30,
          29,
          30,
          29,
          21,
          21,
          16,
          15,
          14,
          20,
          20,
          15,
          20,
          19,
          20,
          20,
          14,
          12,
          19,
          19,
          19,
          20,
          16,
          27,
          21,
          18,
          20,
          19,
          16,
          24,
          24,
          24,
          18,
          19,
          17,
          17,
          17,
          17,
          20,
          21,
          15,
          21,
          22,
          21,
          21,
          20,
          20,
          19,
          19,
          17,
          28,
          28,
          26,
          26,
          26,
          16,
          12,
          13,
          24,
          20,
          20,
          23,
          20,
          23,
          20,
          27,
          24,
          20,
          23,
          26,
          25,
          23,
          21,
          23,
          21,
          21,
          22,
          19,
          22,
          22,
          18,
          22,
          23,
          22,
          22,
          17,
          18,
          17,
          18,
          17,
          23,
          20,
          23,
          20,
          20,
          20,
          26,
          20,
          17,
          22,
          18,
          17,
          31,
          30,
          26,
          30,
          29,
          25,
          33,
          29,
          28,
          26,
          27,
          25,
          22,
          25,
          24,
          24,
          22,
          33,
          16,
          21,
          18,
          20,
          19,
          43,
          41,
          29,
          27,
          32,
          30,
          26,
          27,
          25,
          19,
          18,
          18,
          23,
          20,
          21,
          19,
          15,
          15,
          17,
          24,
          23,
          25,
          23,
          24,
          23,
          17,
          36,
          33,
          35,
          33,
          32,
          27,
          12,
          18,
          21,
          16,
          27,
          30,
          29,
          31,
          29,
          32,
          28,
          30,
          53,
          29,
          31,
          32,
          30,
          29,
          28,
          24,
          24,
          30,
          30,
          25,
          25,
          21,
          23,
          28,
          20,
          24,
          17,
          23,
          24,
          24,
          22,
          22,
          20,
          18,
          18,
          12,
          10,
          25,
          24,
          22,
          22,
          22,
          20,
          15,
          15,
          18,
          15,
          15,
          17,
          23,
          24,
          24,
          22,
          21,
          19,
          23,
          19,
          21,
          18,
          18,
          17,
          29,
          22,
          19,
          16,
          15,
          15,
          14,
          18,
          13,
          13,
          13,
          13,
          15,
          14,
          20,
          23,
          21,
          21,
          43,
          43,
          22,
          32,
          30,
          26,
          30,
          29,
          25,
          55,
          51,
          33,
          26,
          30,
          31,
          30,
          27,
          20,
          19,
          19,
          20,
          25,
          23,
          23,
          20,
          22,
          27,
          25,
          29,
          27,
          31,
          40,
          21,
          17,
          22,
          17,
          43,
          22,
          22,
          20,
          19,
          19,
          19,
          18,
          25,
          23,
          29,
          20,
          17,
          20,
          18,
          42,
          17,
          17,
          16,
          26,
          25,
          24,
          26,
          23,
          21,
          15,
          23,
          22,
          20,
          26,
          24,
          26,
          23,
          24,
          23,
          23,
          23,
          28,
          26,
          25,
          25,
          27,
          31,
          20,
          29,
          28,
          12,
          28,
          23,
          27,
          23,
          22,
          43,
          43,
          22,
          29,
          22,
          25,
          25,
          51,
          44,
          28,
          22,
          27,
          22,
          54,
          52,
          58,
          23,
          21,
          17,
          15,
          13,
          22,
          20,
          17,
          17,
          13,
          24,
          23,
          18,
          14,
          19,
          18,
          19,
          16,
          18,
          19,
          16,
          15,
          18,
          12,
          15,
          17,
          18,
          15,
          17,
          18,
          16,
          17,
          15,
          17,
          16,
          30,
          29,
          26,
          48,
          23,
          22,
          31,
          29,
          29,
          22,
          25,
          23,
          25,
          55,
          57,
          27,
          27,
          28,
          45,
          50,
          20,
          18,
          27,
          21,
          24,
          25,
          17,
          16,
          16,
          16,
          18,
          17,
          15,
          17,
          16,
          17,
          13,
          13,
          19,
          18,
          17,
          17,
          16,
          19,
          19,
          19,
          19,
          18,
          18,
          18,
          16,
          15,
          18,
          18,
          18,
          12,
          12,
          12,
          12,
          24,
          27,
          22,
          20,
          23,
          21,
          26,
          22,
          33,
          31,
          29,
          27,
          26,
          28,
          28,
          51,
          52,
          46,
          27,
          27,
          25,
          29,
          25,
          24,
          28,
          24,
          27,
          22,
          22,
          23,
          20,
          21,
          18,
          16,
          19,
          20,
          20,
          12,
          12,
          21,
          20,
          22,
          20,
          20,
          18,
          20,
          20,
          18,
          19,
          20,
          19,
          19,
          19,
          17,
          18,
          16,
          19,
          19,
          17,
          19,
          18,
          17,
          17,
          19,
          20,
          23,
          16,
          15,
          15,
          17,
          17,
          21,
          16,
          15,
          20,
          21,
          17,
          19,
          17,
          17,
          21,
          19,
          20,
          23,
          16,
          15,
          15,
          17,
          17,
          18,
          16,
          22,
          20,
          17,
          15,
          17,
          15,
          20,
          11,
          13,
          19,
          19,
          23,
          15,
          16,
          15,
          14,
          16,
          16,
          14,
          16,
          14,
          16,
          15,
          14,
          18,
          20,
          16,
          18,
          15,
          17,
          21,
          15,
          20,
          19,
          19,
          22,
          15,
          16,
          15,
          14,
          16,
          15,
          22,
          16,
          14,
          16,
          15,
          19,
          17,
          16,
          17,
          15,
          15,
          21,
          19,
          17,
          15,
          16,
          15,
          13,
          15,
          14,
          19,
          20,
          24,
          20,
          24,
          24,
          24,
          20,
          23,
          21,
          20,
          21,
          20,
          20,
          19,
          24,
          21,
          15,
          14,
          14,
          14,
          15,
          14,
          14,
          14,
          19,
          19,
          17,
          19,
          18,
          19,
          17,
          18,
          20,
          22,
          22,
          22,
          25,
          25,
          26,
          30,
          22,
          24,
          21,
          18,
          18,
          21,
          21,
          19,
          26,
          22,
          26,
          19,
          27,
          21,
          27,
          44,
          26,
          22,
          28,
          20,
          19,
          20,
          28,
          27,
          20,
          22,
          23,
          22,
          23,
          20,
          23,
          22,
          20,
          22,
          23,
          24,
          22,
          22,
          19,
          20,
          23,
          20,
          22,
          20,
          19,
          22,
          21,
          25,
          25,
          25,
          22,
          24,
          22,
          25,
          26,
          25,
          24,
          23,
          20,
          26,
          20,
          21,
          36,
          27,
          28,
          20,
          17,
          21,
          17,
          22,
          23,
          22,
          26,
          19,
          19,
          21,
          21,
          22,
          17,
          19,
          22,
          18,
          14,
          14,
          21,
          24,
          14,
          14,
          21,
          23,
          24,
          26,
          20,
          21,
          22,
          21,
          18,
          17,
          21,
          18,
          25,
          22,
          24,
          24,
          23,
          21,
          21,
          19,
          26,
          23,
          43,
          25,
          21,
          27,
          40,
          19,
          18,
          19,
          26,
          26,
          20,
          21,
          22,
          21,
          22,
          19,
          21,
          21,
          22,
          18,
          16,
          22,
          21,
          21,
          19,
          20,
          18,
          20,
          18,
          22,
          22,
          23,
          21,
          22,
          21,
          22,
          18,
          17,
          21,
          21,
          22,
          19,
          18,
          17,
          21,
          18,
          19,
          22,
          19,
          19,
          19,
          20,
          21,
          21,
          18,
          15,
          20,
          18,
          22,
          22,
          33,
          19,
          18,
          21,
          21,
          20,
          19,
          24,
          25,
          24,
          22,
          20,
          18,
          18,
          16,
          16,
          16,
          22,
          23,
          21,
          21,
          20,
          19,
          25,
          25,
          24,
          20,
          23,
          23,
          20,
          19,
          25,
          19,
          17,
          18,
          17,
          27,
          22,
          26,
          23,
          26,
          20,
          25,
          27,
          27,
          25,
          41,
          18,
          16,
          20,
          22,
          20,
          20,
          21,
          21,
          18,
          14,
          15,
          15,
          14,
          15,
          15,
          14,
          18,
          19,
          14,
          17,
          17,
          27,
          21,
          21,
          21,
          19,
          15,
          15,
          14,
          15,
          15,
          14,
          19,
          14,
          19,
          18,
          16,
          16,
          14,
          16,
          13,
          21,
          19,
          17,
          17,
          13,
          15,
          15,
          14,
          12,
          13,
          13,
          16,
          20,
          16,
          13,
          13,
          16,
          20,
          15,
          20,
          15,
          17,
          14,
          14,
          14,
          14,
          15,
          15,
          14,
          17,
          18,
          14,
          13,
          17,
          16,
          20,
          18,
          16,
          23,
          21,
          18,
          15,
          15,
          14,
          14,
          14,
          14,
          19,
          13,
          18,
          14,
          13,
          11,
          12,
          17,
          17,
          18,
          17,
          21,
          16,
          22,
          16,
          16,
          13,
          19,
          22,
          17,
          15,
          14,
          15,
          12,
          31,
          29,
          17,
          16,
          15,
          14,
          15,
          14,
          13,
          13,
          19,
          17,
          19,
          16,
          13,
          19,
          19,
          18,
          18,
          15,
          15,
          21,
          20,
          16,
          16,
          35,
          35,
          13,
          13,
          16,
          18,
          20,
          10,
          8,
          8,
          16,
          19,
          15,
          12,
          12,
          12,
          11
         ],
         "y0": " ",
         "yaxis": "y"
        }
       ],
       "layout": {
        "boxmode": "group",
        "legend": {
         "tracegroupgap": 0
        },
        "margin": {
         "t": 60
        },
        "template": {
         "data": {
          "bar": [
           {
            "error_x": {
             "color": "#2a3f5f"
            },
            "error_y": {
             "color": "#2a3f5f"
            },
            "marker": {
             "line": {
              "color": "#E5ECF6",
              "width": 0.5
             },
             "pattern": {
              "fillmode": "overlay",
              "size": 10,
              "solidity": 0.2
             }
            },
            "type": "bar"
           }
          ],
          "barpolar": [
           {
            "marker": {
             "line": {
              "color": "#E5ECF6",
              "width": 0.5
             },
             "pattern": {
              "fillmode": "overlay",
              "size": 10,
              "solidity": 0.2
             }
            },
            "type": "barpolar"
           }
          ],
          "carpet": [
           {
            "aaxis": {
             "endlinecolor": "#2a3f5f",
             "gridcolor": "white",
             "linecolor": "white",
             "minorgridcolor": "white",
             "startlinecolor": "#2a3f5f"
            },
            "baxis": {
             "endlinecolor": "#2a3f5f",
             "gridcolor": "white",
             "linecolor": "white",
             "minorgridcolor": "white",
             "startlinecolor": "#2a3f5f"
            },
            "type": "carpet"
           }
          ],
          "choropleth": [
           {
            "colorbar": {
             "outlinewidth": 0,
             "ticks": ""
            },
            "type": "choropleth"
           }
          ],
          "contour": [
           {
            "colorbar": {
             "outlinewidth": 0,
             "ticks": ""
            },
            "colorscale": [
             [
              0,
              "#0d0887"
             ],
             [
              0.1111111111111111,
              "#46039f"
             ],
             [
              0.2222222222222222,
              "#7201a8"
             ],
             [
              0.3333333333333333,
              "#9c179e"
             ],
             [
              0.4444444444444444,
              "#bd3786"
             ],
             [
              0.5555555555555556,
              "#d8576b"
             ],
             [
              0.6666666666666666,
              "#ed7953"
             ],
             [
              0.7777777777777778,
              "#fb9f3a"
             ],
             [
              0.8888888888888888,
              "#fdca26"
             ],
             [
              1,
              "#f0f921"
             ]
            ],
            "type": "contour"
           }
          ],
          "contourcarpet": [
           {
            "colorbar": {
             "outlinewidth": 0,
             "ticks": ""
            },
            "type": "contourcarpet"
           }
          ],
          "heatmap": [
           {
            "colorbar": {
             "outlinewidth": 0,
             "ticks": ""
            },
            "colorscale": [
             [
              0,
              "#0d0887"
             ],
             [
              0.1111111111111111,
              "#46039f"
             ],
             [
              0.2222222222222222,
              "#7201a8"
             ],
             [
              0.3333333333333333,
              "#9c179e"
             ],
             [
              0.4444444444444444,
              "#bd3786"
             ],
             [
              0.5555555555555556,
              "#d8576b"
             ],
             [
              0.6666666666666666,
              "#ed7953"
             ],
             [
              0.7777777777777778,
              "#fb9f3a"
             ],
             [
              0.8888888888888888,
              "#fdca26"
             ],
             [
              1,
              "#f0f921"
             ]
            ],
            "type": "heatmap"
           }
          ],
          "heatmapgl": [
           {
            "colorbar": {
             "outlinewidth": 0,
             "ticks": ""
            },
            "colorscale": [
             [
              0,
              "#0d0887"
             ],
             [
              0.1111111111111111,
              "#46039f"
             ],
             [
              0.2222222222222222,
              "#7201a8"
             ],
             [
              0.3333333333333333,
              "#9c179e"
             ],
             [
              0.4444444444444444,
              "#bd3786"
             ],
             [
              0.5555555555555556,
              "#d8576b"
             ],
             [
              0.6666666666666666,
              "#ed7953"
             ],
             [
              0.7777777777777778,
              "#fb9f3a"
             ],
             [
              0.8888888888888888,
              "#fdca26"
             ],
             [
              1,
              "#f0f921"
             ]
            ],
            "type": "heatmapgl"
           }
          ],
          "histogram": [
           {
            "marker": {
             "pattern": {
              "fillmode": "overlay",
              "size": 10,
              "solidity": 0.2
             }
            },
            "type": "histogram"
           }
          ],
          "histogram2d": [
           {
            "colorbar": {
             "outlinewidth": 0,
             "ticks": ""
            },
            "colorscale": [
             [
              0,
              "#0d0887"
             ],
             [
              0.1111111111111111,
              "#46039f"
             ],
             [
              0.2222222222222222,
              "#7201a8"
             ],
             [
              0.3333333333333333,
              "#9c179e"
             ],
             [
              0.4444444444444444,
              "#bd3786"
             ],
             [
              0.5555555555555556,
              "#d8576b"
             ],
             [
              0.6666666666666666,
              "#ed7953"
             ],
             [
              0.7777777777777778,
              "#fb9f3a"
             ],
             [
              0.8888888888888888,
              "#fdca26"
             ],
             [
              1,
              "#f0f921"
             ]
            ],
            "type": "histogram2d"
           }
          ],
          "histogram2dcontour": [
           {
            "colorbar": {
             "outlinewidth": 0,
             "ticks": ""
            },
            "colorscale": [
             [
              0,
              "#0d0887"
             ],
             [
              0.1111111111111111,
              "#46039f"
             ],
             [
              0.2222222222222222,
              "#7201a8"
             ],
             [
              0.3333333333333333,
              "#9c179e"
             ],
             [
              0.4444444444444444,
              "#bd3786"
             ],
             [
              0.5555555555555556,
              "#d8576b"
             ],
             [
              0.6666666666666666,
              "#ed7953"
             ],
             [
              0.7777777777777778,
              "#fb9f3a"
             ],
             [
              0.8888888888888888,
              "#fdca26"
             ],
             [
              1,
              "#f0f921"
             ]
            ],
            "type": "histogram2dcontour"
           }
          ],
          "mesh3d": [
           {
            "colorbar": {
             "outlinewidth": 0,
             "ticks": ""
            },
            "type": "mesh3d"
           }
          ],
          "parcoords": [
           {
            "line": {
             "colorbar": {
              "outlinewidth": 0,
              "ticks": ""
             }
            },
            "type": "parcoords"
           }
          ],
          "pie": [
           {
            "automargin": true,
            "type": "pie"
           }
          ],
          "scatter": [
           {
            "marker": {
             "colorbar": {
              "outlinewidth": 0,
              "ticks": ""
             }
            },
            "type": "scatter"
           }
          ],
          "scatter3d": [
           {
            "line": {
             "colorbar": {
              "outlinewidth": 0,
              "ticks": ""
             }
            },
            "marker": {
             "colorbar": {
              "outlinewidth": 0,
              "ticks": ""
             }
            },
            "type": "scatter3d"
           }
          ],
          "scattercarpet": [
           {
            "marker": {
             "colorbar": {
              "outlinewidth": 0,
              "ticks": ""
             }
            },
            "type": "scattercarpet"
           }
          ],
          "scattergeo": [
           {
            "marker": {
             "colorbar": {
              "outlinewidth": 0,
              "ticks": ""
             }
            },
            "type": "scattergeo"
           }
          ],
          "scattergl": [
           {
            "marker": {
             "colorbar": {
              "outlinewidth": 0,
              "ticks": ""
             }
            },
            "type": "scattergl"
           }
          ],
          "scattermapbox": [
           {
            "marker": {
             "colorbar": {
              "outlinewidth": 0,
              "ticks": ""
             }
            },
            "type": "scattermapbox"
           }
          ],
          "scatterpolar": [
           {
            "marker": {
             "colorbar": {
              "outlinewidth": 0,
              "ticks": ""
             }
            },
            "type": "scatterpolar"
           }
          ],
          "scatterpolargl": [
           {
            "marker": {
             "colorbar": {
              "outlinewidth": 0,
              "ticks": ""
             }
            },
            "type": "scatterpolargl"
           }
          ],
          "scatterternary": [
           {
            "marker": {
             "colorbar": {
              "outlinewidth": 0,
              "ticks": ""
             }
            },
            "type": "scatterternary"
           }
          ],
          "surface": [
           {
            "colorbar": {
             "outlinewidth": 0,
             "ticks": ""
            },
            "colorscale": [
             [
              0,
              "#0d0887"
             ],
             [
              0.1111111111111111,
              "#46039f"
             ],
             [
              0.2222222222222222,
              "#7201a8"
             ],
             [
              0.3333333333333333,
              "#9c179e"
             ],
             [
              0.4444444444444444,
              "#bd3786"
             ],
             [
              0.5555555555555556,
              "#d8576b"
             ],
             [
              0.6666666666666666,
              "#ed7953"
             ],
             [
              0.7777777777777778,
              "#fb9f3a"
             ],
             [
              0.8888888888888888,
              "#fdca26"
             ],
             [
              1,
              "#f0f921"
             ]
            ],
            "type": "surface"
           }
          ],
          "table": [
           {
            "cells": {
             "fill": {
              "color": "#EBF0F8"
             },
             "line": {
              "color": "white"
             }
            },
            "header": {
             "fill": {
              "color": "#C8D4E3"
             },
             "line": {
              "color": "white"
             }
            },
            "type": "table"
           }
          ]
         },
         "layout": {
          "annotationdefaults": {
           "arrowcolor": "#2a3f5f",
           "arrowhead": 0,
           "arrowwidth": 1
          },
          "autotypenumbers": "strict",
          "coloraxis": {
           "colorbar": {
            "outlinewidth": 0,
            "ticks": ""
           }
          },
          "colorscale": {
           "diverging": [
            [
             0,
             "#8e0152"
            ],
            [
             0.1,
             "#c51b7d"
            ],
            [
             0.2,
             "#de77ae"
            ],
            [
             0.3,
             "#f1b6da"
            ],
            [
             0.4,
             "#fde0ef"
            ],
            [
             0.5,
             "#f7f7f7"
            ],
            [
             0.6,
             "#e6f5d0"
            ],
            [
             0.7,
             "#b8e186"
            ],
            [
             0.8,
             "#7fbc41"
            ],
            [
             0.9,
             "#4d9221"
            ],
            [
             1,
             "#276419"
            ]
           ],
           "sequential": [
            [
             0,
             "#0d0887"
            ],
            [
             0.1111111111111111,
             "#46039f"
            ],
            [
             0.2222222222222222,
             "#7201a8"
            ],
            [
             0.3333333333333333,
             "#9c179e"
            ],
            [
             0.4444444444444444,
             "#bd3786"
            ],
            [
             0.5555555555555556,
             "#d8576b"
            ],
            [
             0.6666666666666666,
             "#ed7953"
            ],
            [
             0.7777777777777778,
             "#fb9f3a"
            ],
            [
             0.8888888888888888,
             "#fdca26"
            ],
            [
             1,
             "#f0f921"
            ]
           ],
           "sequentialminus": [
            [
             0,
             "#0d0887"
            ],
            [
             0.1111111111111111,
             "#46039f"
            ],
            [
             0.2222222222222222,
             "#7201a8"
            ],
            [
             0.3333333333333333,
             "#9c179e"
            ],
            [
             0.4444444444444444,
             "#bd3786"
            ],
            [
             0.5555555555555556,
             "#d8576b"
            ],
            [
             0.6666666666666666,
             "#ed7953"
            ],
            [
             0.7777777777777778,
             "#fb9f3a"
            ],
            [
             0.8888888888888888,
             "#fdca26"
            ],
            [
             1,
             "#f0f921"
            ]
           ]
          },
          "colorway": [
           "#636efa",
           "#EF553B",
           "#00cc96",
           "#ab63fa",
           "#FFA15A",
           "#19d3f3",
           "#FF6692",
           "#B6E880",
           "#FF97FF",
           "#FECB52"
          ],
          "font": {
           "color": "#2a3f5f"
          },
          "geo": {
           "bgcolor": "white",
           "lakecolor": "white",
           "landcolor": "#E5ECF6",
           "showlakes": true,
           "showland": true,
           "subunitcolor": "white"
          },
          "hoverlabel": {
           "align": "left"
          },
          "hovermode": "closest",
          "mapbox": {
           "style": "light"
          },
          "paper_bgcolor": "white",
          "plot_bgcolor": "#E5ECF6",
          "polar": {
           "angularaxis": {
            "gridcolor": "white",
            "linecolor": "white",
            "ticks": ""
           },
           "bgcolor": "#E5ECF6",
           "radialaxis": {
            "gridcolor": "white",
            "linecolor": "white",
            "ticks": ""
           }
          },
          "scene": {
           "xaxis": {
            "backgroundcolor": "#E5ECF6",
            "gridcolor": "white",
            "gridwidth": 2,
            "linecolor": "white",
            "showbackground": true,
            "ticks": "",
            "zerolinecolor": "white"
           },
           "yaxis": {
            "backgroundcolor": "#E5ECF6",
            "gridcolor": "white",
            "gridwidth": 2,
            "linecolor": "white",
            "showbackground": true,
            "ticks": "",
            "zerolinecolor": "white"
           },
           "zaxis": {
            "backgroundcolor": "#E5ECF6",
            "gridcolor": "white",
            "gridwidth": 2,
            "linecolor": "white",
            "showbackground": true,
            "ticks": "",
            "zerolinecolor": "white"
           }
          },
          "shapedefaults": {
           "line": {
            "color": "#2a3f5f"
           }
          },
          "ternary": {
           "aaxis": {
            "gridcolor": "white",
            "linecolor": "white",
            "ticks": ""
           },
           "baxis": {
            "gridcolor": "white",
            "linecolor": "white",
            "ticks": ""
           },
           "bgcolor": "#E5ECF6",
           "caxis": {
            "gridcolor": "white",
            "linecolor": "white",
            "ticks": ""
           }
          },
          "title": {
           "x": 0.05
          },
          "xaxis": {
           "automargin": true,
           "gridcolor": "white",
           "linecolor": "white",
           "ticks": "",
           "title": {
            "standoff": 15
           },
           "zerolinecolor": "white",
           "zerolinewidth": 2
          },
          "yaxis": {
           "automargin": true,
           "gridcolor": "white",
           "linecolor": "white",
           "ticks": "",
           "title": {
            "standoff": 15
           },
           "zerolinecolor": "white",
           "zerolinewidth": 2
          }
         }
        },
        "xaxis": {
         "anchor": "y",
         "domain": [
          0,
          1
         ],
         "title": {
          "text": "# Cyl"
         }
        },
        "yaxis": {
         "anchor": "x",
         "domain": [
          0,
          1
         ],
         "title": {
          "text": "City(mpg)"
         }
        }
       }
      },
      "text/html": [
       "<div>                            <div id=\"284ae187-6d04-41e5-972e-cfd4f92fd34b\" class=\"plotly-graph-div\" style=\"height:525px; width:100%;\"></div>            <script type=\"text/javascript\">                require([\"plotly\"], function(Plotly) {                    window.PLOTLYENV=window.PLOTLYENV || {};                                    if (document.getElementById(\"284ae187-6d04-41e5-972e-cfd4f92fd34b\")) {                    Plotly.newPlot(                        \"284ae187-6d04-41e5-972e-cfd4f92fd34b\",                        [{\"alignmentgroup\":\"True\",\"hovertemplate\":\"# Cyl=%{x}<br>City(mpg)=%{y}<extra></extra>\",\"legendgroup\":\"\",\"marker\":{\"color\":\"#636efa\"},\"name\":\"\",\"notched\":false,\"offsetgroup\":\"\",\"orientation\":\"v\",\"showlegend\":false,\"x\":[6,4,8,8,10,10,4,6,4,16,16,8,8,8,12,8,4,4,6,8,8,4,6,4,6,6,6,6,6,8,8,12,12,10,10,10,10,4,4,8,8,8,8,8,8,8,8,8,8,8,8,8,8,6,6,8,4,6,6,6,6,6,4,4,4,4,4,4,4,4,4,4,4,4,6,12,8,12,8,12,12,8,8,6,6,6,6,3,4,4,6,6,6,6,6,6,6,6,6,6,6,6,4,4,4,4,4,4,4,4,4,4,5,4,6,6,4,5,4,8,12,4,4,4,4,4,4,4,6,6,6,6,6,6,6,6,6,6,6,6,6,6,6,6,6,6,6,6,6,6,6,8,8,8,8,8,8,4,4,6,6,8,8,8,8,4,4,4,4,4,4,8,8,8,4,4,8,4,4,4,4,8,8,6,6,6,6,8,6,4,6,6,6,8,4,4,4,6,6,8,8,8,8,6,6,8,4,4,4,4,6,6,6,6,8,3,3,4,4,4,6,8,8,4,6,6,4,6,4,6,4,4,6,4,4,4,4,4,4,4,4,6,6,6,6,6,6,4,6,6,6,6,6,6,6,4,4,4,4,4,4,4,4,6,4,4,6,4,4,4,4,4,4,4,4,4,4,4,4,4,4,4,4,4,4,8,4,6,6,6,4,4,4,4,4,4,4,4,4,6,8,8,4,4,6,6,8,8,8,4,4,4,4,6,6,8,3,3,3,3,4,4,12,4,4,4,4,4,4,4,4,4,4,4,4,4,4,4,4,4,4,4,4,4,4,4,4,4,4,6,6,4,6,4,4,4,6,6,6,6,6,12,8,4,4,6,6,6,6,8,8,8,8,8,8,4,4,4,4,4,6,4,6,4,6,6,6,4,4,6,8,8,8,8,6,8,8,8,8,8,8,4,4,4,4,4,4,4,4,4,4,4,4,4,4,4,4,4,4,4,4,4,6,6,6,6,4,4,4,6,4,4,4,4,4,4,4,4,6,4,6,4,6,6,6,6,6,6,6,6,6,4,4,6,4,6,4,6,6,6,4,4,4,4,4,6,8,4,4,6,3,3,4,4,4,4,4,4,4,4,4,4,4,4,6,4,4,12,4,4,4,4,6,4,4,6,4,6,4,4,4,4,4,6,4,6,4,4,4,4,4,6,8,8,6,6,8,8,12,4,4,6,8,6,6,6,8,6,6,8,8,6,8,8,6,6,8,6,6,8,6,8,6,8,4,4,4,4,4,4,4,4,4,4,4,4,4,4,4,4,4,4,4,4,6,6,4,4,4,4,6,6,6,6,6,6,8,6,6,8,12,12,6,6,8,8,8,6,6,6,6,6,6,6,8,8,8,8,8,12,12,12,12,4,4,4,4,4,4,4,4,4,4,4,4,4,4,4,4,4,4,4,4,4,4,4,4,4,4,4,4,4,4,6,4,6,8,6,6,6,12,12,4,4,4,4,4,6,4,4,6,6,4,6,4,4,6,4,6,4,4,6,4,6,6,6,4,4,6,6,8,8,8,8,6,8,8,6,6,6,6,8,6,4,4,4,6,6,8,8,8,8,6,8,6,6,8,8,6,8,6,8,8,4,4,6,6,8,8,8,8,8,6,8,8,8,8,8,6,6,6,6,8,6,6,6,4,4,4,6,6,8,8,8,8,8,6,8,8,8,8,6,6,6,6,8,8,6,6,8,8,6,8,8,6,6,4,4,4,4,4,4,4,4,4,4,4,4,4,4,4,4,4,6,8,6,8,6,8,6,8,6,6,6,6,6,6,6,6,6,4,4,4,4,4,3,3,4,4,4,6,6,4,4,6,4,4,4,4,3,4,3,4,4,4,4,6,6,6,4,4,4,4,4,4,4,6,4,4,6,4,4,4,4,4,6,4,4,6,4,6,6,4,4,4,4,4,4,4,4,4,4,4,4,4,6,4,6,6,4,4,4,4,6,4,6,4,4,4,6,6,6,4,4,4,6,4,4,6,6,6,6,4,6,6,6,4,4,3,4,4,4,4,6,6,4,6,4,4,4,4,4,4,4,6,3,4,4,4,4,4,4,6,6,6,4,4,4,4,4,4,4,6,4,4,4,6,8,4,4,4,6,4,6,4,6,4,4,4,4,4,4,4,6,6,4,4,6,6,6,6,4,6,4,4,6,4,4,4,4,4,6,8,4,6,4,4,4,6,6,4,4,4,6,4,4,4,4,4,6,6,8,8,8,4,4,4,4,4,4,4,4,4,6,4,4,6,6,4,4,6,6,6,4,4,4,4,4,6,4,4,4,4,4,4,6,4,4,4,4,6,6,6,8,8,8,8,8,8,8,6,6,8,6,6,6,4,4,4,6,8,8,8,8,8,8,6,8,6,6,6,6,8,6,8,4,4,6,6,8,8,8,8,12,8,8,8,6,8,8,8,8,6,8,6,8,6,8,8,8,8,8,8,8,6,6,8,8,6,6,4,6,6,6,4,6,8,8,8,8,8,8,6,8,6,8,8,8,8,4,6,4,6,6,6,6,8,8,8,6,6,8,8,8,8,8,6,6,6,6,6,8,6,8,8,8,6,8,6,8,8,6,6,6,6,8,8,4,4,6,6,4,4,8,8,6,4,4,12,12,12,6,6,8,12,12,12,8],\"x0\":\" \",\"xaxis\":\"x\",\"y\":[21,24,14,18,13,13,23,24,24,9,9,15,15,15,12,15,25,26,12,16,16,23,20,23,20,18,18,19,19,16,16,9,9,13,13,13,13,26,26,15,15,15,15,15,15,15,12,16,16,15,15,15,15,20,20,17,23,19,17,18,16,16,21,20,19,19,21,20,21,20,19,19,21,20,24,15,18,14,16,12,12,15,16,17,16,17,17,28,26,25,18,18,18,18,17,18,17,17,18,17,18,17,24,21,20,24,21,27,22,22,23,24,19,22,20,19,23,19,23,16,12,23,24,21,21,21,23,22,22,20,22,23,20,21,17,18,16,17,22,19,22,19,22,19,22,22,22,16,17,16,17,15,15,15,15,17,18,22,20,19,16,13,16,16,14,30,29,30,29,21,21,16,15,14,20,20,15,20,19,20,20,14,12,19,19,19,20,16,27,21,18,20,19,16,24,24,24,18,19,17,17,17,17,20,21,15,21,22,21,21,20,20,19,19,17,28,28,26,26,26,16,12,13,24,20,20,23,20,23,20,27,24,20,23,26,25,23,21,23,21,21,22,19,22,22,18,22,23,22,22,17,18,17,18,17,23,20,23,20,20,20,26,20,17,22,18,17,31,30,26,30,29,25,33,29,28,26,27,25,22,25,24,24,22,33,16,21,18,20,19,43,41,29,27,32,30,26,27,25,19,18,18,23,20,21,19,15,15,17,24,23,25,23,24,23,17,36,33,35,33,32,27,12,18,21,16,27,30,29,31,29,32,28,30,53,29,31,32,30,29,28,24,24,30,30,25,25,21,23,28,20,24,17,23,24,24,22,22,20,18,18,12,10,25,24,22,22,22,20,15,15,18,15,15,17,23,24,24,22,21,19,23,19,21,18,18,17,29,22,19,16,15,15,14,18,13,13,13,13,15,14,20,23,21,21,43,43,22,32,30,26,30,29,25,55,51,33,26,30,31,30,27,20,19,19,20,25,23,23,20,22,27,25,29,27,31,40,21,17,22,17,43,22,22,20,19,19,19,18,25,23,29,20,17,20,18,42,17,17,16,26,25,24,26,23,21,15,23,22,20,26,24,26,23,24,23,23,23,28,26,25,25,27,31,20,29,28,12,28,23,27,23,22,43,43,22,29,22,25,25,51,44,28,22,27,22,54,52,58,23,21,17,15,13,22,20,17,17,13,24,23,18,14,19,18,19,16,18,19,16,15,18,12,15,17,18,15,17,18,16,17,15,17,16,30,29,26,48,23,22,31,29,29,22,25,23,25,55,57,27,27,28,45,50,20,18,27,21,24,25,17,16,16,16,18,17,15,17,16,17,13,13,19,18,17,17,16,19,19,19,19,18,18,18,16,15,18,18,18,12,12,12,12,24,27,22,20,23,21,26,22,33,31,29,27,26,28,28,51,52,46,27,27,25,29,25,24,28,24,27,22,22,23,20,21,18,16,19,20,20,12,12,21,20,22,20,20,18,20,20,18,19,20,19,19,19,17,18,16,19,19,17,19,18,17,17,19,20,23,16,15,15,17,17,21,16,15,20,21,17,19,17,17,21,19,20,23,16,15,15,17,17,18,16,22,20,17,15,17,15,20,11,13,19,19,23,15,16,15,14,16,16,14,16,14,16,15,14,18,20,16,18,15,17,21,15,20,19,19,22,15,16,15,14,16,15,22,16,14,16,15,19,17,16,17,15,15,21,19,17,15,16,15,13,15,14,19,20,24,20,24,24,24,20,23,21,20,21,20,20,19,24,21,15,14,14,14,15,14,14,14,19,19,17,19,18,19,17,18,20,22,22,22,25,25,26,30,22,24,21,18,18,21,21,19,26,22,26,19,27,21,27,44,26,22,28,20,19,20,28,27,20,22,23,22,23,20,23,22,20,22,23,24,22,22,19,20,23,20,22,20,19,22,21,25,25,25,22,24,22,25,26,25,24,23,20,26,20,21,36,27,28,20,17,21,17,22,23,22,26,19,19,21,21,22,17,19,22,18,14,14,21,24,14,14,21,23,24,26,20,21,22,21,18,17,21,18,25,22,24,24,23,21,21,19,26,23,43,25,21,27,40,19,18,19,26,26,20,21,22,21,22,19,21,21,22,18,16,22,21,21,19,20,18,20,18,22,22,23,21,22,21,22,18,17,21,21,22,19,18,17,21,18,19,22,19,19,19,20,21,21,18,15,20,18,22,22,33,19,18,21,21,20,19,24,25,24,22,20,18,18,16,16,16,22,23,21,21,20,19,25,25,24,20,23,23,20,19,25,19,17,18,17,27,22,26,23,26,20,25,27,27,25,41,18,16,20,22,20,20,21,21,18,14,15,15,14,15,15,14,18,19,14,17,17,27,21,21,21,19,15,15,14,15,15,14,19,14,19,18,16,16,14,16,13,21,19,17,17,13,15,15,14,12,13,13,16,20,16,13,13,16,20,15,20,15,17,14,14,14,14,15,15,14,17,18,14,13,17,16,20,18,16,23,21,18,15,15,14,14,14,14,19,13,18,14,13,11,12,17,17,18,17,21,16,22,16,16,13,19,22,17,15,14,15,12,31,29,17,16,15,14,15,14,13,13,19,17,19,16,13,19,19,18,18,15,15,21,20,16,16,35,35,13,13,16,18,20,10,8,8,16,19,15,12,12,12,11],\"y0\":\" \",\"yaxis\":\"y\",\"type\":\"box\"}],                        {\"template\":{\"data\":{\"bar\":[{\"error_x\":{\"color\":\"#2a3f5f\"},\"error_y\":{\"color\":\"#2a3f5f\"},\"marker\":{\"line\":{\"color\":\"#E5ECF6\",\"width\":0.5},\"pattern\":{\"fillmode\":\"overlay\",\"size\":10,\"solidity\":0.2}},\"type\":\"bar\"}],\"barpolar\":[{\"marker\":{\"line\":{\"color\":\"#E5ECF6\",\"width\":0.5},\"pattern\":{\"fillmode\":\"overlay\",\"size\":10,\"solidity\":0.2}},\"type\":\"barpolar\"}],\"carpet\":[{\"aaxis\":{\"endlinecolor\":\"#2a3f5f\",\"gridcolor\":\"white\",\"linecolor\":\"white\",\"minorgridcolor\":\"white\",\"startlinecolor\":\"#2a3f5f\"},\"baxis\":{\"endlinecolor\":\"#2a3f5f\",\"gridcolor\":\"white\",\"linecolor\":\"white\",\"minorgridcolor\":\"white\",\"startlinecolor\":\"#2a3f5f\"},\"type\":\"carpet\"}],\"choropleth\":[{\"colorbar\":{\"outlinewidth\":0,\"ticks\":\"\"},\"type\":\"choropleth\"}],\"contour\":[{\"colorbar\":{\"outlinewidth\":0,\"ticks\":\"\"},\"colorscale\":[[0.0,\"#0d0887\"],[0.1111111111111111,\"#46039f\"],[0.2222222222222222,\"#7201a8\"],[0.3333333333333333,\"#9c179e\"],[0.4444444444444444,\"#bd3786\"],[0.5555555555555556,\"#d8576b\"],[0.6666666666666666,\"#ed7953\"],[0.7777777777777778,\"#fb9f3a\"],[0.8888888888888888,\"#fdca26\"],[1.0,\"#f0f921\"]],\"type\":\"contour\"}],\"contourcarpet\":[{\"colorbar\":{\"outlinewidth\":0,\"ticks\":\"\"},\"type\":\"contourcarpet\"}],\"heatmap\":[{\"colorbar\":{\"outlinewidth\":0,\"ticks\":\"\"},\"colorscale\":[[0.0,\"#0d0887\"],[0.1111111111111111,\"#46039f\"],[0.2222222222222222,\"#7201a8\"],[0.3333333333333333,\"#9c179e\"],[0.4444444444444444,\"#bd3786\"],[0.5555555555555556,\"#d8576b\"],[0.6666666666666666,\"#ed7953\"],[0.7777777777777778,\"#fb9f3a\"],[0.8888888888888888,\"#fdca26\"],[1.0,\"#f0f921\"]],\"type\":\"heatmap\"}],\"heatmapgl\":[{\"colorbar\":{\"outlinewidth\":0,\"ticks\":\"\"},\"colorscale\":[[0.0,\"#0d0887\"],[0.1111111111111111,\"#46039f\"],[0.2222222222222222,\"#7201a8\"],[0.3333333333333333,\"#9c179e\"],[0.4444444444444444,\"#bd3786\"],[0.5555555555555556,\"#d8576b\"],[0.6666666666666666,\"#ed7953\"],[0.7777777777777778,\"#fb9f3a\"],[0.8888888888888888,\"#fdca26\"],[1.0,\"#f0f921\"]],\"type\":\"heatmapgl\"}],\"histogram\":[{\"marker\":{\"pattern\":{\"fillmode\":\"overlay\",\"size\":10,\"solidity\":0.2}},\"type\":\"histogram\"}],\"histogram2d\":[{\"colorbar\":{\"outlinewidth\":0,\"ticks\":\"\"},\"colorscale\":[[0.0,\"#0d0887\"],[0.1111111111111111,\"#46039f\"],[0.2222222222222222,\"#7201a8\"],[0.3333333333333333,\"#9c179e\"],[0.4444444444444444,\"#bd3786\"],[0.5555555555555556,\"#d8576b\"],[0.6666666666666666,\"#ed7953\"],[0.7777777777777778,\"#fb9f3a\"],[0.8888888888888888,\"#fdca26\"],[1.0,\"#f0f921\"]],\"type\":\"histogram2d\"}],\"histogram2dcontour\":[{\"colorbar\":{\"outlinewidth\":0,\"ticks\":\"\"},\"colorscale\":[[0.0,\"#0d0887\"],[0.1111111111111111,\"#46039f\"],[0.2222222222222222,\"#7201a8\"],[0.3333333333333333,\"#9c179e\"],[0.4444444444444444,\"#bd3786\"],[0.5555555555555556,\"#d8576b\"],[0.6666666666666666,\"#ed7953\"],[0.7777777777777778,\"#fb9f3a\"],[0.8888888888888888,\"#fdca26\"],[1.0,\"#f0f921\"]],\"type\":\"histogram2dcontour\"}],\"mesh3d\":[{\"colorbar\":{\"outlinewidth\":0,\"ticks\":\"\"},\"type\":\"mesh3d\"}],\"parcoords\":[{\"line\":{\"colorbar\":{\"outlinewidth\":0,\"ticks\":\"\"}},\"type\":\"parcoords\"}],\"pie\":[{\"automargin\":true,\"type\":\"pie\"}],\"scatter\":[{\"marker\":{\"colorbar\":{\"outlinewidth\":0,\"ticks\":\"\"}},\"type\":\"scatter\"}],\"scatter3d\":[{\"line\":{\"colorbar\":{\"outlinewidth\":0,\"ticks\":\"\"}},\"marker\":{\"colorbar\":{\"outlinewidth\":0,\"ticks\":\"\"}},\"type\":\"scatter3d\"}],\"scattercarpet\":[{\"marker\":{\"colorbar\":{\"outlinewidth\":0,\"ticks\":\"\"}},\"type\":\"scattercarpet\"}],\"scattergeo\":[{\"marker\":{\"colorbar\":{\"outlinewidth\":0,\"ticks\":\"\"}},\"type\":\"scattergeo\"}],\"scattergl\":[{\"marker\":{\"colorbar\":{\"outlinewidth\":0,\"ticks\":\"\"}},\"type\":\"scattergl\"}],\"scattermapbox\":[{\"marker\":{\"colorbar\":{\"outlinewidth\":0,\"ticks\":\"\"}},\"type\":\"scattermapbox\"}],\"scatterpolar\":[{\"marker\":{\"colorbar\":{\"outlinewidth\":0,\"ticks\":\"\"}},\"type\":\"scatterpolar\"}],\"scatterpolargl\":[{\"marker\":{\"colorbar\":{\"outlinewidth\":0,\"ticks\":\"\"}},\"type\":\"scatterpolargl\"}],\"scatterternary\":[{\"marker\":{\"colorbar\":{\"outlinewidth\":0,\"ticks\":\"\"}},\"type\":\"scatterternary\"}],\"surface\":[{\"colorbar\":{\"outlinewidth\":0,\"ticks\":\"\"},\"colorscale\":[[0.0,\"#0d0887\"],[0.1111111111111111,\"#46039f\"],[0.2222222222222222,\"#7201a8\"],[0.3333333333333333,\"#9c179e\"],[0.4444444444444444,\"#bd3786\"],[0.5555555555555556,\"#d8576b\"],[0.6666666666666666,\"#ed7953\"],[0.7777777777777778,\"#fb9f3a\"],[0.8888888888888888,\"#fdca26\"],[1.0,\"#f0f921\"]],\"type\":\"surface\"}],\"table\":[{\"cells\":{\"fill\":{\"color\":\"#EBF0F8\"},\"line\":{\"color\":\"white\"}},\"header\":{\"fill\":{\"color\":\"#C8D4E3\"},\"line\":{\"color\":\"white\"}},\"type\":\"table\"}]},\"layout\":{\"annotationdefaults\":{\"arrowcolor\":\"#2a3f5f\",\"arrowhead\":0,\"arrowwidth\":1},\"autotypenumbers\":\"strict\",\"coloraxis\":{\"colorbar\":{\"outlinewidth\":0,\"ticks\":\"\"}},\"colorscale\":{\"diverging\":[[0,\"#8e0152\"],[0.1,\"#c51b7d\"],[0.2,\"#de77ae\"],[0.3,\"#f1b6da\"],[0.4,\"#fde0ef\"],[0.5,\"#f7f7f7\"],[0.6,\"#e6f5d0\"],[0.7,\"#b8e186\"],[0.8,\"#7fbc41\"],[0.9,\"#4d9221\"],[1,\"#276419\"]],\"sequential\":[[0.0,\"#0d0887\"],[0.1111111111111111,\"#46039f\"],[0.2222222222222222,\"#7201a8\"],[0.3333333333333333,\"#9c179e\"],[0.4444444444444444,\"#bd3786\"],[0.5555555555555556,\"#d8576b\"],[0.6666666666666666,\"#ed7953\"],[0.7777777777777778,\"#fb9f3a\"],[0.8888888888888888,\"#fdca26\"],[1.0,\"#f0f921\"]],\"sequentialminus\":[[0.0,\"#0d0887\"],[0.1111111111111111,\"#46039f\"],[0.2222222222222222,\"#7201a8\"],[0.3333333333333333,\"#9c179e\"],[0.4444444444444444,\"#bd3786\"],[0.5555555555555556,\"#d8576b\"],[0.6666666666666666,\"#ed7953\"],[0.7777777777777778,\"#fb9f3a\"],[0.8888888888888888,\"#fdca26\"],[1.0,\"#f0f921\"]]},\"colorway\":[\"#636efa\",\"#EF553B\",\"#00cc96\",\"#ab63fa\",\"#FFA15A\",\"#19d3f3\",\"#FF6692\",\"#B6E880\",\"#FF97FF\",\"#FECB52\"],\"font\":{\"color\":\"#2a3f5f\"},\"geo\":{\"bgcolor\":\"white\",\"lakecolor\":\"white\",\"landcolor\":\"#E5ECF6\",\"showlakes\":true,\"showland\":true,\"subunitcolor\":\"white\"},\"hoverlabel\":{\"align\":\"left\"},\"hovermode\":\"closest\",\"mapbox\":{\"style\":\"light\"},\"paper_bgcolor\":\"white\",\"plot_bgcolor\":\"#E5ECF6\",\"polar\":{\"angularaxis\":{\"gridcolor\":\"white\",\"linecolor\":\"white\",\"ticks\":\"\"},\"bgcolor\":\"#E5ECF6\",\"radialaxis\":{\"gridcolor\":\"white\",\"linecolor\":\"white\",\"ticks\":\"\"}},\"scene\":{\"xaxis\":{\"backgroundcolor\":\"#E5ECF6\",\"gridcolor\":\"white\",\"gridwidth\":2,\"linecolor\":\"white\",\"showbackground\":true,\"ticks\":\"\",\"zerolinecolor\":\"white\"},\"yaxis\":{\"backgroundcolor\":\"#E5ECF6\",\"gridcolor\":\"white\",\"gridwidth\":2,\"linecolor\":\"white\",\"showbackground\":true,\"ticks\":\"\",\"zerolinecolor\":\"white\"},\"zaxis\":{\"backgroundcolor\":\"#E5ECF6\",\"gridcolor\":\"white\",\"gridwidth\":2,\"linecolor\":\"white\",\"showbackground\":true,\"ticks\":\"\",\"zerolinecolor\":\"white\"}},\"shapedefaults\":{\"line\":{\"color\":\"#2a3f5f\"}},\"ternary\":{\"aaxis\":{\"gridcolor\":\"white\",\"linecolor\":\"white\",\"ticks\":\"\"},\"baxis\":{\"gridcolor\":\"white\",\"linecolor\":\"white\",\"ticks\":\"\"},\"bgcolor\":\"#E5ECF6\",\"caxis\":{\"gridcolor\":\"white\",\"linecolor\":\"white\",\"ticks\":\"\"}},\"title\":{\"x\":0.05},\"xaxis\":{\"automargin\":true,\"gridcolor\":\"white\",\"linecolor\":\"white\",\"ticks\":\"\",\"title\":{\"standoff\":15},\"zerolinecolor\":\"white\",\"zerolinewidth\":2},\"yaxis\":{\"automargin\":true,\"gridcolor\":\"white\",\"linecolor\":\"white\",\"ticks\":\"\",\"title\":{\"standoff\":15},\"zerolinecolor\":\"white\",\"zerolinewidth\":2}}},\"xaxis\":{\"anchor\":\"y\",\"domain\":[0.0,1.0],\"title\":{\"text\":\"# Cyl\"}},\"yaxis\":{\"anchor\":\"x\",\"domain\":[0.0,1.0],\"title\":{\"text\":\"City(mpg)\"}},\"legend\":{\"tracegroupgap\":0},\"margin\":{\"t\":60},\"boxmode\":\"group\"},                        {\"responsive\": true}                    ).then(function(){\n",
       "                            \n",
       "var gd = document.getElementById('284ae187-6d04-41e5-972e-cfd4f92fd34b');\n",
       "var x = new MutationObserver(function (mutations, observer) {{\n",
       "        var display = window.getComputedStyle(gd).display;\n",
       "        if (!display || display === 'none') {{\n",
       "            console.log([gd, 'removed!']);\n",
       "            Plotly.purge(gd);\n",
       "            observer.disconnect();\n",
       "        }}\n",
       "}});\n",
       "\n",
       "// Listen for the removal of the full notebook cells\n",
       "var notebookContainer = gd.closest('#notebook-container');\n",
       "if (notebookContainer) {{\n",
       "    x.observe(notebookContainer, {childList: true});\n",
       "}}\n",
       "\n",
       "// Listen for the clearing of the current output cell\n",
       "var outputEl = gd.closest('.output');\n",
       "if (outputEl) {{\n",
       "    x.observe(outputEl, {childList: true});\n",
       "}}\n",
       "\n",
       "                        })                };                });            </script>        </div>"
      ]
     },
     "metadata": {},
     "output_type": "display_data"
    }
   ],
   "source": [
    "# Box plot for Q6.\n",
    "fuel_data = pd.read_excel('Resources/2020_Car_mpg.xlsx')\n",
    "px.box(fuel_data, x='# Cyl', y= 'City(mpg)')\n"
   ]
  },
  {
   "cell_type": "code",
   "execution_count": 119,
   "metadata": {},
   "outputs": [
    {
     "data": {
      "text/plain": [
       "F_onewayResult(statistic=247.08099956471924, pvalue=2.7092340292908863e-153)"
      ]
     },
     "execution_count": 119,
     "metadata": {},
     "output_type": "execute_result"
    }
   ],
   "source": [
    "# ANOVA for Q6.\n",
    "group1 = fuel_data[fuel_data['# Cyl'] == 3]['City(mpg)']\n",
    "group2 = fuel_data[fuel_data['# Cyl'] == 4]['City(mpg)']\n",
    "group3 = fuel_data[fuel_data['# Cyl'] == 6]['City(mpg)']\n",
    "group4 = fuel_data[fuel_data['# Cyl'] == 8]['City(mpg)']\n",
    "group5 = fuel_data[fuel_data['# Cyl'] == 12]['City(mpg)']\n",
    "sts.f_oneway(group1, group2, group3, group4, group5)\n"
   ]
  },
  {
   "cell_type": "markdown",
   "metadata": {},
   "source": [
    "**Question 7: Which of the following statements will compare the means of two independent populations, `pop1` and `pop2`, and does not assume equal population variance? (2 points):**\n",
    "\n",
    "A. \n",
    "```python\n",
    "import scipy.stats as sts\n",
    "sts.ttest(pop1.mean(), pop2.mean())\n",
    "```\n",
    "\n",
    "B.\n",
    "```python\n",
    "import scipy.stats as sts\n",
    "sts.ttest_ind(pop1, pop2, equal_var=False)\n",
    "```\n",
    "\n",
    "C. \n",
    "```python\n",
    "import scipy.stats as sts\n",
    "sts.ttest_ind(pop1.mean(), pop2.mean(), equal_var=False)\n",
    "```\n",
    "\n",
    "D. \n",
    "```python\n",
    "import scipy.stats as sts\n",
    "sts.ttest(pop1, pop2, equal_var=False)\n",
    "```"
   ]
  },
  {
   "cell_type": "code",
   "execution_count": 120,
   "metadata": {},
   "outputs": [],
   "source": [
    "# Answer 7\n",
    "#C"
   ]
  },
  {
   "cell_type": "markdown",
   "metadata": {},
   "source": [
    "**Question 8: Create a code block that performs the following operations: (8 points)**\n",
    "\n",
    "1. Imports the `running_log.csv` file into a Pandas DataFrame called `running_df`.\n",
    "2. Creates a scatter plot of miles versus calories with a trendline.\n",
    "3. Calculate the linear regression results of the running data.."
   ]
  },
  {
   "cell_type": "code",
   "execution_count": 121,
   "metadata": {},
   "outputs": [
    {
     "data": {
      "application/vnd.plotly.v1+json": {
       "config": {
        "plotlyServerURL": "https://plot.ly"
       },
       "data": [
        {
         "hovertemplate": "Miles=%{x}<br>Calories=%{y}<extra></extra>",
         "legendgroup": "",
         "marker": {
          "color": "#636efa",
          "symbol": "circle"
         },
         "mode": "markers",
         "name": "",
         "orientation": "v",
         "showlegend": false,
         "type": "scatter",
         "x": [
          11,
          6,
          6.01,
          11.01,
          7.01,
          6.01,
          18.01,
          7,
          6,
          11.75,
          7.5,
          12.01,
          7,
          20.01,
          6.5,
          12.01,
          7.01,
          7,
          13.01,
          6.01,
          7.25,
          7.51,
          11.25,
          7.25
         ],
         "xaxis": "x",
         "y": [
          1373,
          683,
          741,
          1373,
          870,
          740,
          2233,
          869,
          742,
          1467,
          927,
          1501,
          868,
          2480,
          804,
          1495,
          864,
          867,
          1623,
          742,
          897,
          932,
          1394,
          901
         ],
         "yaxis": "y"
        },
        {
         "hovertemplate": "<b>OLS trendline</b><br>Calories = 125.144 * Miles + -11.9057<br>R<sup>2</sup>=0.999271<br><br>Miles=%{x}<br>Calories=%{y} <b>(trend)</b><extra></extra>",
         "legendgroup": "",
         "marker": {
          "color": "#636efa",
          "symbol": "circle"
         },
         "mode": "lines",
         "name": "",
         "showlegend": false,
         "type": "scatter",
         "x": [
          6,
          6,
          6.01,
          6.01,
          6.01,
          6.5,
          7,
          7,
          7,
          7.01,
          7.01,
          7.25,
          7.25,
          7.5,
          7.51,
          11,
          11.01,
          11.25,
          11.75,
          12.01,
          12.01,
          13.01,
          18.01,
          20.01
         ],
         "xaxis": "x",
         "y": [
          738.9554747528014,
          738.9554747528014,
          740.2069099973465,
          740.2069099973465,
          740.2069099973465,
          801.5272369800624,
          864.0989992073236,
          864.0989992073236,
          864.0989992073236,
          865.3504344518688,
          865.3504344518688,
          895.384880320954,
          895.384880320954,
          926.6707614345846,
          927.9221966791298,
          1364.673097025412,
          1365.9245322699574,
          1395.9589781390425,
          1458.5307403663037,
          1491.0680567244794,
          1491.0680567244794,
          1616.2115811790015,
          2241.929203451612,
          2492.2162523606567
         ],
         "yaxis": "y"
        }
       ],
       "layout": {
        "legend": {
         "tracegroupgap": 0
        },
        "margin": {
         "t": 60
        },
        "template": {
         "data": {
          "bar": [
           {
            "error_x": {
             "color": "#2a3f5f"
            },
            "error_y": {
             "color": "#2a3f5f"
            },
            "marker": {
             "line": {
              "color": "#E5ECF6",
              "width": 0.5
             },
             "pattern": {
              "fillmode": "overlay",
              "size": 10,
              "solidity": 0.2
             }
            },
            "type": "bar"
           }
          ],
          "barpolar": [
           {
            "marker": {
             "line": {
              "color": "#E5ECF6",
              "width": 0.5
             },
             "pattern": {
              "fillmode": "overlay",
              "size": 10,
              "solidity": 0.2
             }
            },
            "type": "barpolar"
           }
          ],
          "carpet": [
           {
            "aaxis": {
             "endlinecolor": "#2a3f5f",
             "gridcolor": "white",
             "linecolor": "white",
             "minorgridcolor": "white",
             "startlinecolor": "#2a3f5f"
            },
            "baxis": {
             "endlinecolor": "#2a3f5f",
             "gridcolor": "white",
             "linecolor": "white",
             "minorgridcolor": "white",
             "startlinecolor": "#2a3f5f"
            },
            "type": "carpet"
           }
          ],
          "choropleth": [
           {
            "colorbar": {
             "outlinewidth": 0,
             "ticks": ""
            },
            "type": "choropleth"
           }
          ],
          "contour": [
           {
            "colorbar": {
             "outlinewidth": 0,
             "ticks": ""
            },
            "colorscale": [
             [
              0,
              "#0d0887"
             ],
             [
              0.1111111111111111,
              "#46039f"
             ],
             [
              0.2222222222222222,
              "#7201a8"
             ],
             [
              0.3333333333333333,
              "#9c179e"
             ],
             [
              0.4444444444444444,
              "#bd3786"
             ],
             [
              0.5555555555555556,
              "#d8576b"
             ],
             [
              0.6666666666666666,
              "#ed7953"
             ],
             [
              0.7777777777777778,
              "#fb9f3a"
             ],
             [
              0.8888888888888888,
              "#fdca26"
             ],
             [
              1,
              "#f0f921"
             ]
            ],
            "type": "contour"
           }
          ],
          "contourcarpet": [
           {
            "colorbar": {
             "outlinewidth": 0,
             "ticks": ""
            },
            "type": "contourcarpet"
           }
          ],
          "heatmap": [
           {
            "colorbar": {
             "outlinewidth": 0,
             "ticks": ""
            },
            "colorscale": [
             [
              0,
              "#0d0887"
             ],
             [
              0.1111111111111111,
              "#46039f"
             ],
             [
              0.2222222222222222,
              "#7201a8"
             ],
             [
              0.3333333333333333,
              "#9c179e"
             ],
             [
              0.4444444444444444,
              "#bd3786"
             ],
             [
              0.5555555555555556,
              "#d8576b"
             ],
             [
              0.6666666666666666,
              "#ed7953"
             ],
             [
              0.7777777777777778,
              "#fb9f3a"
             ],
             [
              0.8888888888888888,
              "#fdca26"
             ],
             [
              1,
              "#f0f921"
             ]
            ],
            "type": "heatmap"
           }
          ],
          "heatmapgl": [
           {
            "colorbar": {
             "outlinewidth": 0,
             "ticks": ""
            },
            "colorscale": [
             [
              0,
              "#0d0887"
             ],
             [
              0.1111111111111111,
              "#46039f"
             ],
             [
              0.2222222222222222,
              "#7201a8"
             ],
             [
              0.3333333333333333,
              "#9c179e"
             ],
             [
              0.4444444444444444,
              "#bd3786"
             ],
             [
              0.5555555555555556,
              "#d8576b"
             ],
             [
              0.6666666666666666,
              "#ed7953"
             ],
             [
              0.7777777777777778,
              "#fb9f3a"
             ],
             [
              0.8888888888888888,
              "#fdca26"
             ],
             [
              1,
              "#f0f921"
             ]
            ],
            "type": "heatmapgl"
           }
          ],
          "histogram": [
           {
            "marker": {
             "pattern": {
              "fillmode": "overlay",
              "size": 10,
              "solidity": 0.2
             }
            },
            "type": "histogram"
           }
          ],
          "histogram2d": [
           {
            "colorbar": {
             "outlinewidth": 0,
             "ticks": ""
            },
            "colorscale": [
             [
              0,
              "#0d0887"
             ],
             [
              0.1111111111111111,
              "#46039f"
             ],
             [
              0.2222222222222222,
              "#7201a8"
             ],
             [
              0.3333333333333333,
              "#9c179e"
             ],
             [
              0.4444444444444444,
              "#bd3786"
             ],
             [
              0.5555555555555556,
              "#d8576b"
             ],
             [
              0.6666666666666666,
              "#ed7953"
             ],
             [
              0.7777777777777778,
              "#fb9f3a"
             ],
             [
              0.8888888888888888,
              "#fdca26"
             ],
             [
              1,
              "#f0f921"
             ]
            ],
            "type": "histogram2d"
           }
          ],
          "histogram2dcontour": [
           {
            "colorbar": {
             "outlinewidth": 0,
             "ticks": ""
            },
            "colorscale": [
             [
              0,
              "#0d0887"
             ],
             [
              0.1111111111111111,
              "#46039f"
             ],
             [
              0.2222222222222222,
              "#7201a8"
             ],
             [
              0.3333333333333333,
              "#9c179e"
             ],
             [
              0.4444444444444444,
              "#bd3786"
             ],
             [
              0.5555555555555556,
              "#d8576b"
             ],
             [
              0.6666666666666666,
              "#ed7953"
             ],
             [
              0.7777777777777778,
              "#fb9f3a"
             ],
             [
              0.8888888888888888,
              "#fdca26"
             ],
             [
              1,
              "#f0f921"
             ]
            ],
            "type": "histogram2dcontour"
           }
          ],
          "mesh3d": [
           {
            "colorbar": {
             "outlinewidth": 0,
             "ticks": ""
            },
            "type": "mesh3d"
           }
          ],
          "parcoords": [
           {
            "line": {
             "colorbar": {
              "outlinewidth": 0,
              "ticks": ""
             }
            },
            "type": "parcoords"
           }
          ],
          "pie": [
           {
            "automargin": true,
            "type": "pie"
           }
          ],
          "scatter": [
           {
            "marker": {
             "colorbar": {
              "outlinewidth": 0,
              "ticks": ""
             }
            },
            "type": "scatter"
           }
          ],
          "scatter3d": [
           {
            "line": {
             "colorbar": {
              "outlinewidth": 0,
              "ticks": ""
             }
            },
            "marker": {
             "colorbar": {
              "outlinewidth": 0,
              "ticks": ""
             }
            },
            "type": "scatter3d"
           }
          ],
          "scattercarpet": [
           {
            "marker": {
             "colorbar": {
              "outlinewidth": 0,
              "ticks": ""
             }
            },
            "type": "scattercarpet"
           }
          ],
          "scattergeo": [
           {
            "marker": {
             "colorbar": {
              "outlinewidth": 0,
              "ticks": ""
             }
            },
            "type": "scattergeo"
           }
          ],
          "scattergl": [
           {
            "marker": {
             "colorbar": {
              "outlinewidth": 0,
              "ticks": ""
             }
            },
            "type": "scattergl"
           }
          ],
          "scattermapbox": [
           {
            "marker": {
             "colorbar": {
              "outlinewidth": 0,
              "ticks": ""
             }
            },
            "type": "scattermapbox"
           }
          ],
          "scatterpolar": [
           {
            "marker": {
             "colorbar": {
              "outlinewidth": 0,
              "ticks": ""
             }
            },
            "type": "scatterpolar"
           }
          ],
          "scatterpolargl": [
           {
            "marker": {
             "colorbar": {
              "outlinewidth": 0,
              "ticks": ""
             }
            },
            "type": "scatterpolargl"
           }
          ],
          "scatterternary": [
           {
            "marker": {
             "colorbar": {
              "outlinewidth": 0,
              "ticks": ""
             }
            },
            "type": "scatterternary"
           }
          ],
          "surface": [
           {
            "colorbar": {
             "outlinewidth": 0,
             "ticks": ""
            },
            "colorscale": [
             [
              0,
              "#0d0887"
             ],
             [
              0.1111111111111111,
              "#46039f"
             ],
             [
              0.2222222222222222,
              "#7201a8"
             ],
             [
              0.3333333333333333,
              "#9c179e"
             ],
             [
              0.4444444444444444,
              "#bd3786"
             ],
             [
              0.5555555555555556,
              "#d8576b"
             ],
             [
              0.6666666666666666,
              "#ed7953"
             ],
             [
              0.7777777777777778,
              "#fb9f3a"
             ],
             [
              0.8888888888888888,
              "#fdca26"
             ],
             [
              1,
              "#f0f921"
             ]
            ],
            "type": "surface"
           }
          ],
          "table": [
           {
            "cells": {
             "fill": {
              "color": "#EBF0F8"
             },
             "line": {
              "color": "white"
             }
            },
            "header": {
             "fill": {
              "color": "#C8D4E3"
             },
             "line": {
              "color": "white"
             }
            },
            "type": "table"
           }
          ]
         },
         "layout": {
          "annotationdefaults": {
           "arrowcolor": "#2a3f5f",
           "arrowhead": 0,
           "arrowwidth": 1
          },
          "autotypenumbers": "strict",
          "coloraxis": {
           "colorbar": {
            "outlinewidth": 0,
            "ticks": ""
           }
          },
          "colorscale": {
           "diverging": [
            [
             0,
             "#8e0152"
            ],
            [
             0.1,
             "#c51b7d"
            ],
            [
             0.2,
             "#de77ae"
            ],
            [
             0.3,
             "#f1b6da"
            ],
            [
             0.4,
             "#fde0ef"
            ],
            [
             0.5,
             "#f7f7f7"
            ],
            [
             0.6,
             "#e6f5d0"
            ],
            [
             0.7,
             "#b8e186"
            ],
            [
             0.8,
             "#7fbc41"
            ],
            [
             0.9,
             "#4d9221"
            ],
            [
             1,
             "#276419"
            ]
           ],
           "sequential": [
            [
             0,
             "#0d0887"
            ],
            [
             0.1111111111111111,
             "#46039f"
            ],
            [
             0.2222222222222222,
             "#7201a8"
            ],
            [
             0.3333333333333333,
             "#9c179e"
            ],
            [
             0.4444444444444444,
             "#bd3786"
            ],
            [
             0.5555555555555556,
             "#d8576b"
            ],
            [
             0.6666666666666666,
             "#ed7953"
            ],
            [
             0.7777777777777778,
             "#fb9f3a"
            ],
            [
             0.8888888888888888,
             "#fdca26"
            ],
            [
             1,
             "#f0f921"
            ]
           ],
           "sequentialminus": [
            [
             0,
             "#0d0887"
            ],
            [
             0.1111111111111111,
             "#46039f"
            ],
            [
             0.2222222222222222,
             "#7201a8"
            ],
            [
             0.3333333333333333,
             "#9c179e"
            ],
            [
             0.4444444444444444,
             "#bd3786"
            ],
            [
             0.5555555555555556,
             "#d8576b"
            ],
            [
             0.6666666666666666,
             "#ed7953"
            ],
            [
             0.7777777777777778,
             "#fb9f3a"
            ],
            [
             0.8888888888888888,
             "#fdca26"
            ],
            [
             1,
             "#f0f921"
            ]
           ]
          },
          "colorway": [
           "#636efa",
           "#EF553B",
           "#00cc96",
           "#ab63fa",
           "#FFA15A",
           "#19d3f3",
           "#FF6692",
           "#B6E880",
           "#FF97FF",
           "#FECB52"
          ],
          "font": {
           "color": "#2a3f5f"
          },
          "geo": {
           "bgcolor": "white",
           "lakecolor": "white",
           "landcolor": "#E5ECF6",
           "showlakes": true,
           "showland": true,
           "subunitcolor": "white"
          },
          "hoverlabel": {
           "align": "left"
          },
          "hovermode": "closest",
          "mapbox": {
           "style": "light"
          },
          "paper_bgcolor": "white",
          "plot_bgcolor": "#E5ECF6",
          "polar": {
           "angularaxis": {
            "gridcolor": "white",
            "linecolor": "white",
            "ticks": ""
           },
           "bgcolor": "#E5ECF6",
           "radialaxis": {
            "gridcolor": "white",
            "linecolor": "white",
            "ticks": ""
           }
          },
          "scene": {
           "xaxis": {
            "backgroundcolor": "#E5ECF6",
            "gridcolor": "white",
            "gridwidth": 2,
            "linecolor": "white",
            "showbackground": true,
            "ticks": "",
            "zerolinecolor": "white"
           },
           "yaxis": {
            "backgroundcolor": "#E5ECF6",
            "gridcolor": "white",
            "gridwidth": 2,
            "linecolor": "white",
            "showbackground": true,
            "ticks": "",
            "zerolinecolor": "white"
           },
           "zaxis": {
            "backgroundcolor": "#E5ECF6",
            "gridcolor": "white",
            "gridwidth": 2,
            "linecolor": "white",
            "showbackground": true,
            "ticks": "",
            "zerolinecolor": "white"
           }
          },
          "shapedefaults": {
           "line": {
            "color": "#2a3f5f"
           }
          },
          "ternary": {
           "aaxis": {
            "gridcolor": "white",
            "linecolor": "white",
            "ticks": ""
           },
           "baxis": {
            "gridcolor": "white",
            "linecolor": "white",
            "ticks": ""
           },
           "bgcolor": "#E5ECF6",
           "caxis": {
            "gridcolor": "white",
            "linecolor": "white",
            "ticks": ""
           }
          },
          "title": {
           "x": 0.05
          },
          "xaxis": {
           "automargin": true,
           "gridcolor": "white",
           "linecolor": "white",
           "ticks": "",
           "title": {
            "standoff": 15
           },
           "zerolinecolor": "white",
           "zerolinewidth": 2
          },
          "yaxis": {
           "automargin": true,
           "gridcolor": "white",
           "linecolor": "white",
           "ticks": "",
           "title": {
            "standoff": 15
           },
           "zerolinecolor": "white",
           "zerolinewidth": 2
          }
         }
        },
        "xaxis": {
         "anchor": "y",
         "domain": [
          0,
          1
         ],
         "title": {
          "text": "Miles"
         }
        },
        "yaxis": {
         "anchor": "x",
         "domain": [
          0,
          1
         ],
         "title": {
          "text": "Calories"
         }
        }
       }
      },
      "text/html": [
       "<div>                            <div id=\"2b8c9fb9-c4f1-4363-a618-fe500a6658b9\" class=\"plotly-graph-div\" style=\"height:525px; width:100%;\"></div>            <script type=\"text/javascript\">                require([\"plotly\"], function(Plotly) {                    window.PLOTLYENV=window.PLOTLYENV || {};                                    if (document.getElementById(\"2b8c9fb9-c4f1-4363-a618-fe500a6658b9\")) {                    Plotly.newPlot(                        \"2b8c9fb9-c4f1-4363-a618-fe500a6658b9\",                        [{\"hovertemplate\":\"Miles=%{x}<br>Calories=%{y}<extra></extra>\",\"legendgroup\":\"\",\"marker\":{\"color\":\"#636efa\",\"symbol\":\"circle\"},\"mode\":\"markers\",\"name\":\"\",\"orientation\":\"v\",\"showlegend\":false,\"x\":[11.0,6.0,6.01,11.01,7.01,6.01,18.01,7.0,6.0,11.75,7.5,12.01,7.0,20.01,6.5,12.01,7.01,7.0,13.01,6.01,7.25,7.51,11.25,7.25],\"xaxis\":\"x\",\"y\":[1373,683,741,1373,870,740,2233,869,742,1467,927,1501,868,2480,804,1495,864,867,1623,742,897,932,1394,901],\"yaxis\":\"y\",\"type\":\"scatter\"},{\"hovertemplate\":\"<b>OLS trendline</b><br>Calories = 125.144 * Miles + -11.9057<br>R<sup>2</sup>=0.999271<br><br>Miles=%{x}<br>Calories=%{y} <b>(trend)</b><extra></extra>\",\"legendgroup\":\"\",\"marker\":{\"color\":\"#636efa\",\"symbol\":\"circle\"},\"mode\":\"lines\",\"name\":\"\",\"showlegend\":false,\"x\":[6.0,6.0,6.01,6.01,6.01,6.5,7.0,7.0,7.0,7.01,7.01,7.25,7.25,7.5,7.51,11.0,11.01,11.25,11.75,12.01,12.01,13.01,18.01,20.01],\"xaxis\":\"x\",\"y\":[738.9554747528014,738.9554747528014,740.2069099973465,740.2069099973465,740.2069099973465,801.5272369800624,864.0989992073236,864.0989992073236,864.0989992073236,865.3504344518688,865.3504344518688,895.384880320954,895.384880320954,926.6707614345846,927.9221966791298,1364.673097025412,1365.9245322699574,1395.9589781390425,1458.5307403663037,1491.0680567244794,1491.0680567244794,1616.2115811790015,2241.929203451612,2492.2162523606567],\"yaxis\":\"y\",\"type\":\"scatter\"}],                        {\"template\":{\"data\":{\"bar\":[{\"error_x\":{\"color\":\"#2a3f5f\"},\"error_y\":{\"color\":\"#2a3f5f\"},\"marker\":{\"line\":{\"color\":\"#E5ECF6\",\"width\":0.5},\"pattern\":{\"fillmode\":\"overlay\",\"size\":10,\"solidity\":0.2}},\"type\":\"bar\"}],\"barpolar\":[{\"marker\":{\"line\":{\"color\":\"#E5ECF6\",\"width\":0.5},\"pattern\":{\"fillmode\":\"overlay\",\"size\":10,\"solidity\":0.2}},\"type\":\"barpolar\"}],\"carpet\":[{\"aaxis\":{\"endlinecolor\":\"#2a3f5f\",\"gridcolor\":\"white\",\"linecolor\":\"white\",\"minorgridcolor\":\"white\",\"startlinecolor\":\"#2a3f5f\"},\"baxis\":{\"endlinecolor\":\"#2a3f5f\",\"gridcolor\":\"white\",\"linecolor\":\"white\",\"minorgridcolor\":\"white\",\"startlinecolor\":\"#2a3f5f\"},\"type\":\"carpet\"}],\"choropleth\":[{\"colorbar\":{\"outlinewidth\":0,\"ticks\":\"\"},\"type\":\"choropleth\"}],\"contour\":[{\"colorbar\":{\"outlinewidth\":0,\"ticks\":\"\"},\"colorscale\":[[0.0,\"#0d0887\"],[0.1111111111111111,\"#46039f\"],[0.2222222222222222,\"#7201a8\"],[0.3333333333333333,\"#9c179e\"],[0.4444444444444444,\"#bd3786\"],[0.5555555555555556,\"#d8576b\"],[0.6666666666666666,\"#ed7953\"],[0.7777777777777778,\"#fb9f3a\"],[0.8888888888888888,\"#fdca26\"],[1.0,\"#f0f921\"]],\"type\":\"contour\"}],\"contourcarpet\":[{\"colorbar\":{\"outlinewidth\":0,\"ticks\":\"\"},\"type\":\"contourcarpet\"}],\"heatmap\":[{\"colorbar\":{\"outlinewidth\":0,\"ticks\":\"\"},\"colorscale\":[[0.0,\"#0d0887\"],[0.1111111111111111,\"#46039f\"],[0.2222222222222222,\"#7201a8\"],[0.3333333333333333,\"#9c179e\"],[0.4444444444444444,\"#bd3786\"],[0.5555555555555556,\"#d8576b\"],[0.6666666666666666,\"#ed7953\"],[0.7777777777777778,\"#fb9f3a\"],[0.8888888888888888,\"#fdca26\"],[1.0,\"#f0f921\"]],\"type\":\"heatmap\"}],\"heatmapgl\":[{\"colorbar\":{\"outlinewidth\":0,\"ticks\":\"\"},\"colorscale\":[[0.0,\"#0d0887\"],[0.1111111111111111,\"#46039f\"],[0.2222222222222222,\"#7201a8\"],[0.3333333333333333,\"#9c179e\"],[0.4444444444444444,\"#bd3786\"],[0.5555555555555556,\"#d8576b\"],[0.6666666666666666,\"#ed7953\"],[0.7777777777777778,\"#fb9f3a\"],[0.8888888888888888,\"#fdca26\"],[1.0,\"#f0f921\"]],\"type\":\"heatmapgl\"}],\"histogram\":[{\"marker\":{\"pattern\":{\"fillmode\":\"overlay\",\"size\":10,\"solidity\":0.2}},\"type\":\"histogram\"}],\"histogram2d\":[{\"colorbar\":{\"outlinewidth\":0,\"ticks\":\"\"},\"colorscale\":[[0.0,\"#0d0887\"],[0.1111111111111111,\"#46039f\"],[0.2222222222222222,\"#7201a8\"],[0.3333333333333333,\"#9c179e\"],[0.4444444444444444,\"#bd3786\"],[0.5555555555555556,\"#d8576b\"],[0.6666666666666666,\"#ed7953\"],[0.7777777777777778,\"#fb9f3a\"],[0.8888888888888888,\"#fdca26\"],[1.0,\"#f0f921\"]],\"type\":\"histogram2d\"}],\"histogram2dcontour\":[{\"colorbar\":{\"outlinewidth\":0,\"ticks\":\"\"},\"colorscale\":[[0.0,\"#0d0887\"],[0.1111111111111111,\"#46039f\"],[0.2222222222222222,\"#7201a8\"],[0.3333333333333333,\"#9c179e\"],[0.4444444444444444,\"#bd3786\"],[0.5555555555555556,\"#d8576b\"],[0.6666666666666666,\"#ed7953\"],[0.7777777777777778,\"#fb9f3a\"],[0.8888888888888888,\"#fdca26\"],[1.0,\"#f0f921\"]],\"type\":\"histogram2dcontour\"}],\"mesh3d\":[{\"colorbar\":{\"outlinewidth\":0,\"ticks\":\"\"},\"type\":\"mesh3d\"}],\"parcoords\":[{\"line\":{\"colorbar\":{\"outlinewidth\":0,\"ticks\":\"\"}},\"type\":\"parcoords\"}],\"pie\":[{\"automargin\":true,\"type\":\"pie\"}],\"scatter\":[{\"marker\":{\"colorbar\":{\"outlinewidth\":0,\"ticks\":\"\"}},\"type\":\"scatter\"}],\"scatter3d\":[{\"line\":{\"colorbar\":{\"outlinewidth\":0,\"ticks\":\"\"}},\"marker\":{\"colorbar\":{\"outlinewidth\":0,\"ticks\":\"\"}},\"type\":\"scatter3d\"}],\"scattercarpet\":[{\"marker\":{\"colorbar\":{\"outlinewidth\":0,\"ticks\":\"\"}},\"type\":\"scattercarpet\"}],\"scattergeo\":[{\"marker\":{\"colorbar\":{\"outlinewidth\":0,\"ticks\":\"\"}},\"type\":\"scattergeo\"}],\"scattergl\":[{\"marker\":{\"colorbar\":{\"outlinewidth\":0,\"ticks\":\"\"}},\"type\":\"scattergl\"}],\"scattermapbox\":[{\"marker\":{\"colorbar\":{\"outlinewidth\":0,\"ticks\":\"\"}},\"type\":\"scattermapbox\"}],\"scatterpolar\":[{\"marker\":{\"colorbar\":{\"outlinewidth\":0,\"ticks\":\"\"}},\"type\":\"scatterpolar\"}],\"scatterpolargl\":[{\"marker\":{\"colorbar\":{\"outlinewidth\":0,\"ticks\":\"\"}},\"type\":\"scatterpolargl\"}],\"scatterternary\":[{\"marker\":{\"colorbar\":{\"outlinewidth\":0,\"ticks\":\"\"}},\"type\":\"scatterternary\"}],\"surface\":[{\"colorbar\":{\"outlinewidth\":0,\"ticks\":\"\"},\"colorscale\":[[0.0,\"#0d0887\"],[0.1111111111111111,\"#46039f\"],[0.2222222222222222,\"#7201a8\"],[0.3333333333333333,\"#9c179e\"],[0.4444444444444444,\"#bd3786\"],[0.5555555555555556,\"#d8576b\"],[0.6666666666666666,\"#ed7953\"],[0.7777777777777778,\"#fb9f3a\"],[0.8888888888888888,\"#fdca26\"],[1.0,\"#f0f921\"]],\"type\":\"surface\"}],\"table\":[{\"cells\":{\"fill\":{\"color\":\"#EBF0F8\"},\"line\":{\"color\":\"white\"}},\"header\":{\"fill\":{\"color\":\"#C8D4E3\"},\"line\":{\"color\":\"white\"}},\"type\":\"table\"}]},\"layout\":{\"annotationdefaults\":{\"arrowcolor\":\"#2a3f5f\",\"arrowhead\":0,\"arrowwidth\":1},\"autotypenumbers\":\"strict\",\"coloraxis\":{\"colorbar\":{\"outlinewidth\":0,\"ticks\":\"\"}},\"colorscale\":{\"diverging\":[[0,\"#8e0152\"],[0.1,\"#c51b7d\"],[0.2,\"#de77ae\"],[0.3,\"#f1b6da\"],[0.4,\"#fde0ef\"],[0.5,\"#f7f7f7\"],[0.6,\"#e6f5d0\"],[0.7,\"#b8e186\"],[0.8,\"#7fbc41\"],[0.9,\"#4d9221\"],[1,\"#276419\"]],\"sequential\":[[0.0,\"#0d0887\"],[0.1111111111111111,\"#46039f\"],[0.2222222222222222,\"#7201a8\"],[0.3333333333333333,\"#9c179e\"],[0.4444444444444444,\"#bd3786\"],[0.5555555555555556,\"#d8576b\"],[0.6666666666666666,\"#ed7953\"],[0.7777777777777778,\"#fb9f3a\"],[0.8888888888888888,\"#fdca26\"],[1.0,\"#f0f921\"]],\"sequentialminus\":[[0.0,\"#0d0887\"],[0.1111111111111111,\"#46039f\"],[0.2222222222222222,\"#7201a8\"],[0.3333333333333333,\"#9c179e\"],[0.4444444444444444,\"#bd3786\"],[0.5555555555555556,\"#d8576b\"],[0.6666666666666666,\"#ed7953\"],[0.7777777777777778,\"#fb9f3a\"],[0.8888888888888888,\"#fdca26\"],[1.0,\"#f0f921\"]]},\"colorway\":[\"#636efa\",\"#EF553B\",\"#00cc96\",\"#ab63fa\",\"#FFA15A\",\"#19d3f3\",\"#FF6692\",\"#B6E880\",\"#FF97FF\",\"#FECB52\"],\"font\":{\"color\":\"#2a3f5f\"},\"geo\":{\"bgcolor\":\"white\",\"lakecolor\":\"white\",\"landcolor\":\"#E5ECF6\",\"showlakes\":true,\"showland\":true,\"subunitcolor\":\"white\"},\"hoverlabel\":{\"align\":\"left\"},\"hovermode\":\"closest\",\"mapbox\":{\"style\":\"light\"},\"paper_bgcolor\":\"white\",\"plot_bgcolor\":\"#E5ECF6\",\"polar\":{\"angularaxis\":{\"gridcolor\":\"white\",\"linecolor\":\"white\",\"ticks\":\"\"},\"bgcolor\":\"#E5ECF6\",\"radialaxis\":{\"gridcolor\":\"white\",\"linecolor\":\"white\",\"ticks\":\"\"}},\"scene\":{\"xaxis\":{\"backgroundcolor\":\"#E5ECF6\",\"gridcolor\":\"white\",\"gridwidth\":2,\"linecolor\":\"white\",\"showbackground\":true,\"ticks\":\"\",\"zerolinecolor\":\"white\"},\"yaxis\":{\"backgroundcolor\":\"#E5ECF6\",\"gridcolor\":\"white\",\"gridwidth\":2,\"linecolor\":\"white\",\"showbackground\":true,\"ticks\":\"\",\"zerolinecolor\":\"white\"},\"zaxis\":{\"backgroundcolor\":\"#E5ECF6\",\"gridcolor\":\"white\",\"gridwidth\":2,\"linecolor\":\"white\",\"showbackground\":true,\"ticks\":\"\",\"zerolinecolor\":\"white\"}},\"shapedefaults\":{\"line\":{\"color\":\"#2a3f5f\"}},\"ternary\":{\"aaxis\":{\"gridcolor\":\"white\",\"linecolor\":\"white\",\"ticks\":\"\"},\"baxis\":{\"gridcolor\":\"white\",\"linecolor\":\"white\",\"ticks\":\"\"},\"bgcolor\":\"#E5ECF6\",\"caxis\":{\"gridcolor\":\"white\",\"linecolor\":\"white\",\"ticks\":\"\"}},\"title\":{\"x\":0.05},\"xaxis\":{\"automargin\":true,\"gridcolor\":\"white\",\"linecolor\":\"white\",\"ticks\":\"\",\"title\":{\"standoff\":15},\"zerolinecolor\":\"white\",\"zerolinewidth\":2},\"yaxis\":{\"automargin\":true,\"gridcolor\":\"white\",\"linecolor\":\"white\",\"ticks\":\"\",\"title\":{\"standoff\":15},\"zerolinecolor\":\"white\",\"zerolinewidth\":2}}},\"xaxis\":{\"anchor\":\"y\",\"domain\":[0.0,1.0],\"title\":{\"text\":\"Miles\"}},\"yaxis\":{\"anchor\":\"x\",\"domain\":[0.0,1.0],\"title\":{\"text\":\"Calories\"}},\"legend\":{\"tracegroupgap\":0},\"margin\":{\"t\":60}},                        {\"responsive\": true}                    ).then(function(){\n",
       "                            \n",
       "var gd = document.getElementById('2b8c9fb9-c4f1-4363-a618-fe500a6658b9');\n",
       "var x = new MutationObserver(function (mutations, observer) {{\n",
       "        var display = window.getComputedStyle(gd).display;\n",
       "        if (!display || display === 'none') {{\n",
       "            console.log([gd, 'removed!']);\n",
       "            Plotly.purge(gd);\n",
       "            observer.disconnect();\n",
       "        }}\n",
       "}});\n",
       "\n",
       "// Listen for the removal of the full notebook cells\n",
       "var notebookContainer = gd.closest('#notebook-container');\n",
       "if (notebookContainer) {{\n",
       "    x.observe(notebookContainer, {childList: true});\n",
       "}}\n",
       "\n",
       "// Listen for the clearing of the current output cell\n",
       "var outputEl = gd.closest('.output');\n",
       "if (outputEl) {{\n",
       "    x.observe(outputEl, {childList: true});\n",
       "}}\n",
       "\n",
       "                        })                };                });            </script>        </div>"
      ]
     },
     "metadata": {},
     "output_type": "display_data"
    }
   ],
   "source": [
    "# Scatter plot for Q8.\n",
    "running_df = pd.read_csv('Resources/running_log.csv')\n",
    "scatter = px.scatter(running_df, x='Miles',y='Calories',trendline='ols')\n",
    "scatter"
   ]
  },
  {
   "cell_type": "code",
   "execution_count": 122,
   "metadata": {},
   "outputs": [
    {
     "name": "stdout",
     "output_type": "stream",
     "text": [
      "<bound method RegressionResults.summary of <statsmodels.regression.linear_model.OLSResults object at 0x0000017D213140D0>>\n"
     ]
    }
   ],
   "source": [
    "# Linear regression for Q8.\n",
    "X = running_df['Miles'].astype('float')\n",
    "Y = running_df['Calories'].astype('float')\n",
    "mod = sm.OLS(endog = Y, exog= X, data=running_df)\n",
    "res = mod.fit()\n",
    "print(res.summary)\n",
    "#model = sm.OLS(Y,X)\n",
    "#results = model.fit()\n",
    "#print(results.summary)\n",
    "#I give up, not sure why this OLS isn't working"
   ]
  },
  {
   "cell_type": "code",
   "execution_count": null,
   "metadata": {},
   "outputs": [],
   "source": []
  },
  {
   "cell_type": "code",
   "execution_count": null,
   "metadata": {},
   "outputs": [],
   "source": []
  },
  {
   "cell_type": "code",
   "execution_count": null,
   "metadata": {},
   "outputs": [],
   "source": []
  }
 ],
 "metadata": {
  "kernelspec": {
   "display_name": "Python 3 (ipykernel)",
   "language": "python",
   "name": "python3"
  },
  "language_info": {
   "codemirror_mode": {
    "name": "ipython",
    "version": 3
   },
   "file_extension": ".py",
   "mimetype": "text/x-python",
   "name": "python",
   "nbconvert_exporter": "python",
   "pygments_lexer": "ipython3",
   "version": "3.9.7"
  }
 },
 "nbformat": 4,
 "nbformat_minor": 4
}
